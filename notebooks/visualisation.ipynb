{
 "cells": [
  {
   "cell_type": "code",
   "execution_count": null,
   "metadata": {},
   "outputs": [],
   "source": [
    "import folium"
   ]
  },
  {
   "cell_type": "code",
   "execution_count": null,
   "metadata": {},
   "outputs": [],
   "source": [
    "import json\n",
    "import pandas as pd\n",
    "import re\n",
    "import geopandas as gpd"
   ]
  },
  {
   "cell_type": "markdown",
   "metadata": {},
   "source": [
    "## Property location"
   ]
  },
  {
   "cell_type": "code",
   "execution_count": null,
   "metadata": {},
   "outputs": [],
   "source": [
    "# we want to draw a map to show all the locations of the extracted properties\n",
    "m = folium.Map([-38.013995, 145.264296], zoom_start=9)\n",
    "\n",
    "df = pd.read_csv('../data/curated/property.csv')\n",
    "\n",
    "for index, row in df.iterrows():\n",
    "    lat = float(re.findall(r'\\[(-\\d+.\\d+)',row['coordinates'])[0])\n",
    "    long = float(re.findall(r'(\\d+.\\d+)\\]',row['coordinates'])[0])\n",
    "    folium.Marker([lat, long]).add_to(m)\n",
    "\n",
    "m.save('../plots/property.html')\n",
    "m"
   ]
  },
  {
   "cell_type": "markdown",
   "metadata": {},
   "source": [
    "## Property location with defined boundary of SA2"
   ]
  },
  {
   "cell_type": "code",
   "execution_count": null,
   "metadata": {},
   "outputs": [],
   "source": [
    "# we add boundary of each Statistical Area 2 into the property map\n",
    "gdf = gpd.read_file('../data/curated/boundary.shp')\n",
    "gdf = gpd.GeoDataFrame(gdf)\n",
    "# create a JSON \n",
    "geoJSON = gdf[['SA2_NAME21', 'geometry']].to_json()\n",
    "\n",
    "m.add_child(folium.Choropleth(\n",
    "    geo_data=geoJSON,\n",
    "    name='choropleth',\n",
    "))\n",
    "m.save('../plots/property_sa2.html')\n",
    "m"
   ]
  },
  {
   "cell_type": "markdown",
   "metadata": {},
   "source": [
    "## 2021 Population Density"
   ]
  },
  {
   "cell_type": "code",
   "execution_count": 98,
   "metadata": {},
   "outputs": [],
   "source": [
    "import csv"
   ]
  },
  {
   "cell_type": "code",
   "execution_count": 102,
   "metadata": {},
   "outputs": [
    {
     "name": "stdout",
     "output_type": "stream",
     "text": [
      "      SA2 code             SA2 name Population density 2021  \\\n",
      "0    201011001            Alfredton                   319.2   \n",
      "1    201011002             Ballarat                   975.5   \n",
      "2    201011005            Buninyong                   140.2   \n",
      "3    201011006            Delacombe                   311.5   \n",
      "4    201011007        Smythes Creek                    40.2   \n",
      "..         ...                  ...                     ...   \n",
      "517  217031476                Otway                     2.6   \n",
      "518  217041477         Moyne - East                     2.1   \n",
      "519  217041478         Moyne - West                     4.9   \n",
      "520  217041479  Warrnambool - North                   359.9   \n",
      "521  217041480  Warrnambool - South                   110.6   \n",
      "\n",
      "                                              geometry  \n",
      "0    POLYGON ((143.78281 -37.56667, 143.75557 -37.5...  \n",
      "1    POLYGON ((143.81896 -37.55583, 143.81644 -37.5...  \n",
      "2    POLYGON ((143.84170 -37.61597, 143.84175 -37.6...  \n",
      "3    POLYGON ((143.75049 -37.59120, 143.75044 -37.5...  \n",
      "4    POLYGON ((143.73295 -37.62335, 143.73262 -37.6...  \n",
      "..                                                 ...  \n",
      "517  MULTIPOLYGON (((143.40263 -38.78153, 143.40252...  \n",
      "518  POLYGON ((142.41438 -38.09304, 142.41399 -38.0...  \n",
      "519  MULTIPOLYGON (((142.00869 -38.41716, 142.00876...  \n",
      "520  POLYGON ((142.43668 -38.35545, 142.43658 -38.3...  \n",
      "521  POLYGON ((142.45281 -38.39127, 142.45229 -38.3...  \n",
      "\n",
      "[522 rows x 4 columns]\n"
     ]
    }
   ],
   "source": [
    "# we draw a map to represent the density of population in each SA2\n",
    "tmp_lst = []\n",
    "with open('../data/curated/population.csv','r') as f:\n",
    "    reader = csv.reader(f)\n",
    "    for row in reader:\n",
    "        tmp_lst.append(row)\n",
    "df_popu = pd.DataFrame(tmp_lst[1:], columns=tmp_lst[0])\n",
    "\n",
    "gdf = gpd.read_file('../data/curated/boundary.shp')\n",
    "gdf = gpd.GeoDataFrame(gdf)\n",
    "gdf.rename(columns={'SA2_CODE21':'SA2 code'}, inplace=True)\n",
    "\n",
    "merge_df = pd.merge(df_popu,gdf,on='SA2 code')\n",
    "merge_df = merge_df[['SA2 code', 'SA2 name', 'Population density 2021','geometry']]\n",
    "\n",
    "m = folium.Map([-38.013995, 145.264296], zoom_start=9)\n",
    "\n",
    "m.add_child(folium.Choropleth(\n",
    "    geo_data=geoJSON,\n",
    "    name='choropleth',\n",
    "))\n",
    "\n",
    "\n",
    "\n"
   ]
  },
  {
   "cell_type": "markdown",
   "metadata": {},
   "source": [
    "## School location combined with property location"
   ]
  },
  {
   "cell_type": "code",
   "execution_count": null,
   "metadata": {},
   "outputs": [],
   "source": []
  }
 ],
 "metadata": {
  "kernelspec": {
   "display_name": "Python 3.9.7 ('base')",
   "language": "python",
   "name": "python3"
  },
  "language_info": {
   "codemirror_mode": {
    "name": "ipython",
    "version": 3
   },
   "file_extension": ".py",
   "mimetype": "text/x-python",
   "name": "python",
   "nbconvert_exporter": "python",
   "pygments_lexer": "ipython3",
   "version": "3.9.7"
  },
  "orig_nbformat": 4,
  "vscode": {
   "interpreter": {
    "hash": "cc2379f458d55a7a1b90305c55461d88bd7f754fbea20f9190016acffac2dcca"
   }
  }
 },
 "nbformat": 4,
 "nbformat_minor": 2
}
