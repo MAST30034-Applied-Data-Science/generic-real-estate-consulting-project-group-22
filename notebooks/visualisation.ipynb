{
 "cells": [
  {
   "cell_type": "code",
   "execution_count": 2,
   "metadata": {},
   "outputs": [],
   "source": [
    "import folium"
   ]
  },
  {
   "cell_type": "code",
   "execution_count": 3,
   "metadata": {},
   "outputs": [],
   "source": [
    "import json\n",
    "import pandas as pd\n",
    "import re\n",
    "import geopandas as gpd"
   ]
  },
  {
   "cell_type": "markdown",
   "metadata": {},
   "source": [
    "## Property location"
   ]
  },
  {
   "cell_type": "code",
   "execution_count": 108,
   "metadata": {},
   "outputs": [],
   "source": [
    "# we want to draw a map to show all the locations of the extracted properties\n",
    "m = folium.Map([-38.013995, 145.264296], zoom_start=9)\n",
    "\n",
    "df = pd.read_csv('../data/curated/property.csv')\n",
    "\n",
    "for index, row in df.iterrows():\n",
    "    lat = float(re.findall(r'\\[(-\\d+.\\d+)',str(row['coordinates']))[0])\n",
    "    long = float(re.findall(r'(\\d+.\\d+)\\]',str(row['coordinates']))[0])\n",
    "    folium.Marker([lat, long]).add_to(m)\n",
    "\n",
    "m.save('../plots/property.html')"
   ]
  },
  {
   "cell_type": "markdown",
   "metadata": {},
   "source": [
    "## Property location with defined boundary of SA2"
   ]
  },
  {
   "cell_type": "code",
   "execution_count": 110,
   "metadata": {},
   "outputs": [],
   "source": [
    "# we add boundary of each Statistical Area 2 into the property map\n",
    "gdf = gpd.read_file('../data/curated/boundary.shp')\n",
    "gdf = gpd.GeoDataFrame(gdf)\n",
    "# create a JSON \n",
    "geoJSON = gdf[['SA2_CODE21', 'geometry']].to_json()\n",
    "\n",
    "m.add_child(folium.Choropleth(\n",
    "    geo_data=geoJSON,\n",
    "    name='choropleth',\n",
    "))\n",
    "m.save('../plots/property_sa2.html')"
   ]
  },
  {
   "cell_type": "code",
   "execution_count": 111,
   "metadata": {},
   "outputs": [],
   "source": [
    "map = folium.Map([-38.013995, 145.264296], zoom_start=9)\n",
    "\n",
    "map.add_child(folium.Choropleth(\n",
    "    geo_data=geoJSON,\n",
    "    name='choropleth',\n",
    "))\n",
    "map.save('../plots/sa2.html')"
   ]
  },
  {
   "cell_type": "markdown",
   "metadata": {},
   "source": [
    "## Property location with school location"
   ]
  },
  {
   "cell_type": "code",
   "execution_count": 4,
   "metadata": {},
   "outputs": [],
   "source": [
    "import numpy as np\n",
    "import math"
   ]
  },
  {
   "cell_type": "code",
   "execution_count": 113,
   "metadata": {},
   "outputs": [],
   "source": [
    "df = pd.read_csv('../data/curated/school.csv')\n",
    "\n",
    "for index, row in df.iterrows():\n",
    "    folium.CircleMarker(location=(row['Y'], row['X']), radius=1, fill_color='red').add_to(m)\n",
    "\n",
    "m.save('../plots/school_property.html')"
   ]
  },
  {
   "cell_type": "markdown",
   "metadata": {},
   "source": [
    "## 2021 Population Density"
   ]
  },
  {
   "cell_type": "code",
   "execution_count": 5,
   "metadata": {},
   "outputs": [],
   "source": [
    "import csv"
   ]
  },
  {
   "cell_type": "code",
   "execution_count": 104,
   "metadata": {},
   "outputs": [],
   "source": [
    "# we draw a map to represent the density of population in each SA2\n",
    "tmp_lst = []\n",
    "with open('../data/curated/population.csv','r') as f:\n",
    "    reader = csv.reader(f)\n",
    "    for row in reader:\n",
    "        tmp_lst.append(row)\n",
    "df_popu = pd.DataFrame(tmp_lst[1:], columns=tmp_lst[0])\n",
    "\n",
    "gdf = gpd.read_file('../data/curated/boundary.shp')\n",
    "gdf = gpd.GeoDataFrame(gdf)\n",
    "gdf.rename(columns={'SA2_CODE21':'SA2 code'}, inplace=True)\n",
    "\n",
    "merge_df = pd.merge(df_popu,gdf,on='SA2 code')\n",
    "merge_df = merge_df[['SA2 code', 'SA2 name', 'Population density 2021','geometry']]\n",
    "new = merge_df['Population density 2021'].astype(float)\n",
    "merge_df['density'] = new\n",
    "\n",
    "# create a JSON \n",
    "gdf = gpd.GeoDataFrame(merge_df)\n",
    "geoJSON = gdf[['SA2 code', 'geometry']].to_json()\n",
    "\n",
    "m = folium.Map([-38.013995, 145.264296], zoom_start=9)\n",
    "\n",
    "c = folium.Choropleth(\n",
    "    geo_data=geoJSON, # geoJSON \n",
    "    name='choropleth', # name of plot\n",
    "    data=merge_df, # data source\n",
    "    columns=['SA2 code', 'density'], # the columns required\n",
    "    key_on='properties.SA2 code', # this is from the geoJSON's properties\n",
    "    fill_color='YlOrRd', # color scheme\n",
    "    nan_fill_color='black',\n",
    "    legend_name='Population density in 2021'\n",
    ")\n",
    "\n",
    "c.add_to(m)\n",
    "\n",
    "m.save('../plots/population_density.html')\n"
   ]
  },
  {
   "cell_type": "markdown",
   "metadata": {},
   "source": [
    "## Median Income 2018-2019"
   ]
  },
  {
   "cell_type": "code",
   "execution_count": 105,
   "metadata": {},
   "outputs": [],
   "source": [
    "tmp_lst = []\n",
    "with open('../data/curated/income.csv','r') as f:\n",
    "    reader = csv.reader(f)\n",
    "    for row in reader:\n",
    "        tmp_lst.append(row)\n",
    "df_income = pd.DataFrame(tmp_lst[1:], columns=tmp_lst[0])\n",
    "\n",
    "gdf = gpd.read_file('../data/curated/boundary.shp')\n",
    "gdf = gpd.GeoDataFrame(gdf)\n",
    "gdf.rename(columns={'SA2_CODE21':'SA2'}, inplace=True)\n",
    "\n",
    "merge_df = pd.merge(df_income,gdf,on='SA2',how='right')\n",
    "merge_df = merge_df[['SA2', 'SA2_NAME21', '2018-19 MEDIAN EMPLOYMENT INCOME PER JOB','geometry']]\n",
    "\n",
    "\n",
    "new = []\n",
    "for i in range(len(merge_df)):\n",
    "    if merge_df['2018-19 MEDIAN EMPLOYMENT INCOME PER JOB'][i] == 'np':\n",
    "        new.append(0)\n",
    "    else:\n",
    "        new.append(float(merge_df['2018-19 MEDIAN EMPLOYMENT INCOME PER JOB'][i]))\n",
    "\n",
    "merge_df['income'] = new\n",
    "\n",
    "# create a JSON \n",
    "gdf = gpd.GeoDataFrame(merge_df)\n",
    "geoJSON = gdf[['SA2', 'geometry']].to_json()\n",
    "\n",
    "m = folium.Map([-38.013995, 145.264296], zoom_start=9)\n",
    "\n",
    "c = folium.Choropleth(\n",
    "    geo_data=geoJSON, # geoJSON \n",
    "    name='choropleth', # name of plot\n",
    "    data=merge_df, # data source\n",
    "    columns=['SA2', 'income'], # the columns required\n",
    "    key_on='properties.SA2', # this is from the geoJSON's properties\n",
    "    fill_color='YlOrRd', # color scheme\n",
    "    nan_fill_color='black',\n",
    "    legend_name='Median Income in 2018-2019'\n",
    ")\n",
    "\n",
    "c.add_to(m)\n",
    "\n",
    "m.save('../plots/income.html')"
   ]
  },
  {
   "cell_type": "markdown",
   "metadata": {},
   "source": [
    "## Mean Rental Price"
   ]
  },
  {
   "cell_type": "code",
   "execution_count": 17,
   "metadata": {},
   "outputs": [],
   "source": [
    "tmp_lst = []\n",
    "with open('../data/curated/rent_all.csv','r') as f:\n",
    "    reader = csv.reader(f)\n",
    "    for row in reader:\n",
    "        tmp_lst.append(row)\n",
    "df = pd.DataFrame(tmp_lst[1:], columns=tmp_lst[0])\n",
    "\n",
    "new = df['SA2_code'].astype(float).astype(int).astype(str)\n",
    "df['SA2_code'] = new\n",
    "\n",
    "gdf = gpd.read_file('../data/curated/boundary.shp')\n",
    "gdf = gpd.GeoDataFrame(gdf)\n",
    "gdf.rename(columns={'SA2_CODE21':'SA2_code'}, inplace=True)\n",
    "\n",
    "\n",
    "merge_df = pd.merge(df,gdf,on='SA2_code',how='right')\n",
    "merge_df = merge_df[['SA2_code', 'SA2_NAME21', 'mean','geometry']]\n",
    "\n",
    "new = []\n",
    "for i in range(len(merge_df)):\n",
    "    if merge_df['mean'][i] == 'np':\n",
    "        new.append(0)\n",
    "    else:\n",
    "        new.append(float(merge_df['mean'][i]))\n",
    "\n",
    "merge_df['mean'] = new\n",
    "\n",
    "# create a JSON \n",
    "gdf = gpd.GeoDataFrame(merge_df)\n",
    "geoJSON = gdf[['SA2_code', 'geometry']].to_json()\n",
    "\n",
    "m = folium.Map([-38.013995, 145.264296], zoom_start=9)\n",
    "\n",
    "c = folium.Choropleth(\n",
    "    geo_data=geoJSON, # geoJSON \n",
    "    name='choropleth', # name of plot\n",
    "    data=merge_df, # data source\n",
    "    columns=['SA2_code', 'mean'], # the columns required\n",
    "    key_on='properties.SA2_code', # this is from the geoJSON's properties\n",
    "    fill_color='YlOrRd', # color scheme\n",
    "    nan_fill_color='black',\n",
    "    legend_name='Mean Rental Price for each SA2'\n",
    ")\n",
    "\n",
    "c.add_to(m)\n",
    "\n",
    "m.save('../plots/mean_rent.html')"
   ]
  },
  {
   "cell_type": "markdown",
   "metadata": {},
   "source": [
    "## Livable Suburb Rank"
   ]
  },
  {
   "cell_type": "code",
   "execution_count": 50,
   "metadata": {},
   "outputs": [
    {
     "data": {
      "text/plain": [
       "<folium.features.Choropleth at 0x7feeeb218b50>"
      ]
     },
     "execution_count": 50,
     "metadata": {},
     "output_type": "execute_result"
    }
   ],
   "source": [
    "tmp_lst = []\n",
    "with open('../data/curated/livable_suburb_all_2.csv','r') as f:\n",
    "    reader = csv.reader(f)\n",
    "    for row in reader:\n",
    "        tmp_lst.append(row)\n",
    "df = pd.DataFrame(tmp_lst[1:], columns=tmp_lst[0])\n",
    "\n",
    "\n",
    "gdf = gpd.read_file('../data/curated/boundary.shp')\n",
    "gdf = gpd.GeoDataFrame(gdf)\n",
    "gdf.rename(columns={'SA2_NAME21':'SA2_name'}, inplace=True)\n",
    "\n",
    "\n",
    "merge_df = pd.merge(df,gdf,on='SA2_name',how='right')\n",
    "merge_df = merge_df[['SA2_CODE21', 'SA2_name', 'rank_avg','geometry']]\n",
    "\n",
    "new = []\n",
    "for i in range(len(merge_df)):\n",
    "    if merge_df['rank_avg'][i] == 'np':\n",
    "        new.append(0)\n",
    "    else:\n",
    "        new.append(float(merge_df['rank_avg'][i]))\n",
    "\n",
    "merge_df['rank'] = new\n",
    "\n",
    "# create a JSON \n",
    "gdf = gpd.GeoDataFrame(merge_df)\n",
    "geoJSON = gdf[['SA2_name', 'geometry']].to_json()\n",
    "\n",
    "m = folium.Map([-38.013995, 145.264296], zoom_start=9)\n",
    "\n",
    "c = folium.Choropleth(\n",
    "    geo_data=geoJSON, # geoJSON \n",
    "    name='choropleth', # name of plot\n",
    "    data=merge_df, # data source\n",
    "    columns=['SA2_name', 'rank'], # the columns required\n",
    "    key_on='properties.SA2_name', # this is from the geoJSON's properties\n",
    "    fill_color='YlOrRd', # color scheme\n",
    "    nan_fill_color='black',\n",
    "    legend_name='Rank of Distance to Infrastructure from Properties in each SA2'\n",
    ")\n",
    "\n",
    "c.add_to(m)\n",
    "\n"
   ]
  },
  {
   "cell_type": "code",
   "execution_count": 51,
   "metadata": {},
   "outputs": [
    {
     "name": "stderr",
     "output_type": "stream",
     "text": [
      "/var/folders/1l/kxzgd7qj0958pcn5xj1149ph0000gn/T/ipykernel_4251/2478040751.py:17: ShapelyDeprecationWarning: The array interface is deprecated and will no longer work in Shapely 2.0. Convert the '.coords' to a numpy array instead.\n",
      "  loc = np.asarray(df_merge['geometry'][i].exterior)\n"
     ]
    }
   ],
   "source": [
    "# we want to mark the top 20 most livable suburbs on the map\n",
    "\n",
    "import numpy as np\n",
    "\n",
    "tmp_lst = []\n",
    "with open('../data/curated/livable_suburb_2_top_20.csv','r') as f:\n",
    "    reader = csv.reader(f)\n",
    "    for row in reader:\n",
    "        tmp_lst.append(row)\n",
    "df = pd.DataFrame(tmp_lst[1:], columns=tmp_lst[0])\n",
    "\n",
    "df_merge = pd.merge(df,gdf,on='SA2_name',how='inner')\n",
    "\n",
    "df_merge = df_merge[['SA2_name', 'rank','geometry']]\n",
    "\n",
    "for i in range(len(df_merge)):\n",
    "    loc = np.asarray(df_merge['geometry'][i].exterior)\n",
    "    loc_list = [(i[1], i[0]) for i in loc]\n",
    "    folium.vector_layers.Polygon(locations=loc_list, popup=df_merge['SA2_name'][i]).add_to(m)\n",
    "\n",
    "\n",
    "m.save('../plots/livable_rank.html')"
   ]
  },
  {
   "cell_type": "markdown",
   "metadata": {},
   "source": [
    "## Livable Suburb Distance"
   ]
  },
  {
   "cell_type": "code",
   "execution_count": 16,
   "metadata": {},
   "outputs": [],
   "source": [
    "tmp_lst = []\n",
    "with open('../data/curated/livable_suburb_all_1.csv','r') as f:\n",
    "    reader = csv.reader(f)\n",
    "    for row in reader:\n",
    "        tmp_lst.append(row)\n",
    "df = pd.DataFrame(tmp_lst[1:], columns=tmp_lst[0])\n",
    "\n",
    "\n",
    "gdf = gpd.read_file('../data/curated/boundary.shp')\n",
    "gdf = gpd.GeoDataFrame(gdf)\n",
    "gdf.rename(columns={'SA2_NAME21':'SA2_name'}, inplace=True)\n",
    "\n",
    "\n",
    "merge_df = pd.merge(df,gdf,on='SA2_name',how='right')\n",
    "merge_df = merge_df[['SA2_CODE21', 'SA2_name', 'Distance_avg','geometry']]\n",
    "\n",
    "new = []\n",
    "for i in range(len(merge_df)):\n",
    "    if merge_df['Distance_avg'][i] == 'np':\n",
    "        new.append(0)\n",
    "    else:\n",
    "        new.append(float(merge_df['Distance_avg'][i]))\n",
    "\n",
    "merge_df['distance'] = new\n",
    "\n",
    "# create a JSON \n",
    "gdf = gpd.GeoDataFrame(merge_df)\n",
    "geoJSON = gdf[['SA2_name', 'geometry']].to_json()\n",
    "\n",
    "m = folium.Map([-38.013995, 145.264296], zoom_start=9)\n",
    "\n",
    "c = folium.Choropleth(\n",
    "    geo_data=geoJSON, # geoJSON \n",
    "    name='choropleth', # name of plot\n",
    "    data=merge_df, # data source\n",
    "    columns=['SA2_name', 'distance'], # the columns required\n",
    "    key_on='properties.SA2_name', # this is from the geoJSON's properties\n",
    "    fill_color='YlOrRd', # color scheme\n",
    "    nan_fill_color='black',\n",
    "    legend_name='Average Distance to Infrastructure from Properties in each SA2'\n",
    ")\n",
    "\n",
    "c.add_to(m)\n",
    "\n",
    "m.save('../plots/livable_distance.html')"
   ]
  }
 ],
 "metadata": {
  "kernelspec": {
   "display_name": "Python 3.9.7 ('base')",
   "language": "python",
   "name": "python3"
  },
  "language_info": {
   "codemirror_mode": {
    "name": "ipython",
    "version": 3
   },
   "file_extension": ".py",
   "mimetype": "text/x-python",
   "name": "python",
   "nbconvert_exporter": "python",
   "pygments_lexer": "ipython3",
   "version": "3.9.7"
  },
  "orig_nbformat": 4,
  "vscode": {
   "interpreter": {
    "hash": "cc2379f458d55a7a1b90305c55461d88bd7f754fbea20f9190016acffac2dcca"
   }
  }
 },
 "nbformat": 4,
 "nbformat_minor": 2
}
