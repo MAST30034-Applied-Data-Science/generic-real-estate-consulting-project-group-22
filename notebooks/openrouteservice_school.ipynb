{
 "cells": [
  {
   "cell_type": "code",
   "execution_count": 13,
   "metadata": {},
   "outputs": [],
   "source": [
    "import openrouteservice as ors\n",
    "import folium\n",
    "\n",
    "#client = ors.Client(key='your-key')\n",
    "client = ors.Client(key='your-key')"
   ]
  },
  {
   "cell_type": "code",
   "execution_count": 2,
   "metadata": {},
   "outputs": [],
   "source": [
    "import re\n",
    "import pandas as pd\n",
    "import math\n",
    "\n",
    "import numpy as np\n",
    "\n",
    "from operator import itemgetter\n",
    "from heapq import nsmallest\n",
    "\n",
    "from itertools import chain\n",
    "\n",
    "import time"
   ]
  },
  {
   "cell_type": "code",
   "execution_count": 3,
   "metadata": {},
   "outputs": [
    {
     "name": "stdout",
     "output_type": "stream",
     "text": [
      "15222\n",
      "2298\n"
     ]
    }
   ],
   "source": [
    "df_property = pd.read_csv('../data/curated/property.csv')\n",
    "\n",
    "property_coor = []\n",
    "for index, row in df_property.iterrows():\n",
    "    lat = float(re.findall(r'\\[(-\\d+.\\d+)',str(row['coordinates']))[0])\n",
    "    long = float(re.findall(r'(\\d+.\\d+)\\]',str(row['coordinates']))[0])\n",
    "    property_coor.append((long,lat))\n",
    "\n",
    "print(len(property_coor))\n",
    "\n",
    "df_school = pd.read_csv('../data/curated/school.csv')\n",
    "\n",
    "school_coor = []\n",
    "for index, row in df_school.iterrows():\n",
    "    lat = row['Y']\n",
    "    long = row['X']\n",
    "    school_coor.append((long,lat))\n",
    "    \n",
    "print(len(school_coor))\n"
   ]
  },
  {
   "cell_type": "code",
   "execution_count": 4,
   "metadata": {},
   "outputs": [],
   "source": [
    "import geopy.distance"
   ]
  },
  {
   "cell_type": "code",
   "execution_count": 5,
   "metadata": {},
   "outputs": [
    {
     "name": "stdout",
     "output_type": "stream",
     "text": [
      "15222\n"
     ]
    }
   ],
   "source": [
    "# find the closest 3 schools for each property based on distance\n",
    "# api has accessed limits so that it is difficult to track the route between each school and each property\n",
    "\n",
    "\n",
    "def get_school(index):\n",
    "\n",
    "    # calculate distance between the property and each school\n",
    "    distances = [geopy.distance.geodesic((property_coor[index][1], property_coor[index][0]), (school_coor[j][1], school_coor[j][0])).km for j in range(len(school_coor))]\n",
    "\n",
    "    # find the 3 nearest school\n",
    "    index = list(range(len(school_coor)))\n",
    "    pairs = zip(index, distances)\n",
    "    result = nsmallest(3, pairs, key=itemgetter(1))\n",
    "    index_list = [i[0] for i in result]\n",
    "\n",
    "    # store the name and the coordinates of the 3 nearest schools\n",
    "    name_list = [df_school['School_Name'][i] for i in index_list]\n",
    "    coor_list = [school_coor[i] for i in index_list]\n",
    "    \n",
    "    result = []\n",
    "    result.append(name_list)\n",
    "    result.append(coor_list)\n",
    "\n",
    "    return result\n",
    "\n",
    "# for each property, get corresponding closest schools\n",
    "name_list = []\n",
    "coor_list = []\n",
    "\n",
    "for i in range(len(property_coor)):\n",
    "    result = get_school(i)\n",
    "    name_list.append(result[0])\n",
    "    coor_list.append(result[1])\n",
    "\n",
    "print(len(name_list))\n"
   ]
  },
  {
   "cell_type": "code",
   "execution_count": 14,
   "metadata": {},
   "outputs": [
    {
     "name": "stderr",
     "output_type": "stream",
     "text": [
      "/Users/a123/opt/anaconda3/lib/python3.9/site-packages/openrouteservice/client.py:211: UserWarning: Rate limit exceeded. Retrying for the 1st time.\n",
      "  warnings.warn('Rate limit exceeded. Retrying for the {0}{1} time.'.format(retry_counter + 1,\n",
      "/Users/a123/opt/anaconda3/lib/python3.9/site-packages/openrouteservice/client.py:211: UserWarning: Rate limit exceeded. Retrying for the 2nd time.\n",
      "  warnings.warn('Rate limit exceeded. Retrying for the {0}{1} time.'.format(retry_counter + 1,\n",
      "/Users/a123/opt/anaconda3/lib/python3.9/site-packages/openrouteservice/client.py:211: UserWarning: Rate limit exceeded. Retrying for the 3rd time.\n",
      "  warnings.warn('Rate limit exceeded. Retrying for the {0}{1} time.'.format(retry_counter + 1,\n",
      "/Users/a123/opt/anaconda3/lib/python3.9/site-packages/openrouteservice/client.py:211: UserWarning: Rate limit exceeded. Retrying for the 4th time.\n",
      "  warnings.warn('Rate limit exceeded. Retrying for the {0}{1} time.'.format(retry_counter + 1,\n",
      "/Users/a123/opt/anaconda3/lib/python3.9/site-packages/openrouteservice/client.py:211: UserWarning: Rate limit exceeded. Retrying for the 5th time.\n",
      "  warnings.warn('Rate limit exceeded. Retrying for the {0}{1} time.'.format(retry_counter + 1,\n",
      "/Users/a123/opt/anaconda3/lib/python3.9/site-packages/openrouteservice/client.py:211: UserWarning: Rate limit exceeded. Retrying for the 6th time.\n",
      "  warnings.warn('Rate limit exceeded. Retrying for the {0}{1} time.'.format(retry_counter + 1,\n",
      "/Users/a123/opt/anaconda3/lib/python3.9/site-packages/openrouteservice/client.py:211: UserWarning: Rate limit exceeded. Retrying for the 7th time.\n",
      "  warnings.warn('Rate limit exceeded. Retrying for the {0}{1} time.'.format(retry_counter + 1,\n"
     ]
    }
   ],
   "source": [
    "\n",
    "def get_school_ors(iter):\n",
    "\n",
    "\n",
    "    flatten_list = list(chain.from_iterable(coor_list[iter*34:iter*34+34]))\n",
    "    combine_coor = property_coor[iter*34:iter*34+34] + flatten_list\n",
    "\n",
    "    if iter == len(df_property)//34:\n",
    "        count = len(df_property)-iter*34\n",
    "    else:\n",
    "        count = 34\n",
    "\n",
    "    matrix = client.distance_matrix(\n",
    "        locations=combine_coor,\n",
    "        profile='driving-car',\n",
    "        metrics=['distance', 'duration'],\n",
    "        validate=False,\n",
    "        destinations=list(range(count,len(combine_coor))),\n",
    "        sources=list(range(count)),\n",
    "    )\n",
    "\n",
    "    duration_list = []\n",
    "    distance_list = []\n",
    "    school_name_list = []\n",
    "    school_coor_list = []\n",
    "\n",
    "\n",
    "    for i in range(count):\n",
    "\n",
    "        min_index = np.argmin(matrix['durations'][i][i*3:i*3+3])\n",
    "        min_index_flat = min_index+i*3\n",
    "        duration_list.append(matrix['durations'][i][min_index_flat])\n",
    "        distance_list.append(matrix['distances'][i][min_index_flat])\n",
    "\n",
    "        school_name_list.append(name_list[iter*34+i][min_index])\n",
    "        school_coor_list.append(coor_list[iter*34+i][min_index])\n",
    "\n",
    "\n",
    "    #print(\"Durations in secs: {}\\n\".format(matrix['durations']))\n",
    "    #print(\"Distances in m: {}\".format(matrix['distances']))\n",
    "\n",
    "    # we only want to call the whole function once at each main iteration\n",
    "    result_list = []\n",
    "    result_list.append(duration_list)\n",
    "    result_list.append(distance_list)\n",
    "    result_list.append(school_name_list)\n",
    "    result_list.append(school_coor_list)\n",
    "\n",
    "    return result_list\n",
    "\n",
    "# A total of 3500 routes is allowed for each call of api, so that we can pass 34 groups of property \n",
    "# with corresponding 3 closest schools at each time\n",
    "\n",
    "duration_list = []\n",
    "distance_list = []\n",
    "school_name_list = []\n",
    "school_coor_list = []\n",
    "\n",
    "num_call = len(df_property)//34 + 1\n",
    "for i in range(num_call):\n",
    "    result = get_school_ors(i)\n",
    "    \n",
    "    # control rate\n",
    "    if i%40 == 0:\n",
    "        time.sleep(30)\n",
    "    \n",
    "    duration_list.append(result[0])\n",
    "    distance_list.append(result[1])\n",
    "    school_name_list.append(result[2])\n",
    "    school_coor_list.append(result[3])\n"
   ]
  },
  {
   "cell_type": "code",
   "execution_count": 15,
   "metadata": {},
   "outputs": [
    {
     "name": "stdout",
     "output_type": "stream",
     "text": [
      "15222\n"
     ]
    }
   ],
   "source": [
    "flatten_duration_list = list(chain.from_iterable(duration_list))\n",
    "flatten_distance_list = list(chain.from_iterable(distance_list))\n",
    "flatten_school_name_list = list(chain.from_iterable(school_name_list))\n",
    "flatten_school_coor_list = list(chain.from_iterable(school_coor_list))\n",
    "\n",
    "print(len(flatten_distance_list))"
   ]
  },
  {
   "cell_type": "code",
   "execution_count": 16,
   "metadata": {},
   "outputs": [],
   "source": [
    "df = pd.read_csv('../data/curated/property.csv')\n",
    "\n",
    "df['driving_time_to_school'] = flatten_duration_list\n",
    "df['distance_to_school'] = flatten_distance_list\n",
    "df['closest_school_name'] = flatten_school_name_list\n",
    "df['closest_school_coor'] = flatten_school_coor_list\n",
    "\n",
    "df.to_csv('../data/curated/property_school.csv')\n"
   ]
  }
 ],
 "metadata": {
  "kernelspec": {
   "display_name": "Python 3.9.7 ('base')",
   "language": "python",
   "name": "python3"
  },
  "language_info": {
   "codemirror_mode": {
    "name": "ipython",
    "version": 3
   },
   "file_extension": ".py",
   "mimetype": "text/x-python",
   "name": "python",
   "nbconvert_exporter": "python",
   "pygments_lexer": "ipython3",
   "version": "3.9.7"
  },
  "orig_nbformat": 4,
  "vscode": {
   "interpreter": {
    "hash": "cc2379f458d55a7a1b90305c55461d88bd7f754fbea20f9190016acffac2dcca"
   }
  }
 },
 "nbformat": 4,
 "nbformat_minor": 2
}
