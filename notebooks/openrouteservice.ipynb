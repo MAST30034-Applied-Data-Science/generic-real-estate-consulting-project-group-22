{
 "cells": [
  {
   "cell_type": "code",
   "execution_count": 2,
   "metadata": {},
   "outputs": [],
   "source": [
    "import openrouteservice as ors\n",
    "import folium\n",
    "\n",
    "client = ors.Client(key='5b3ce3597851110001cf6248f4b857eea0554d93886b4c09e748b2bf')"
   ]
  },
  {
   "cell_type": "code",
   "execution_count": 59,
   "metadata": {},
   "outputs": [],
   "source": [
    "import re\n",
    "import pandas as pd\n",
    "import math\n",
    "\n",
    "import numpy as np\n",
    "\n",
    "from operator import itemgetter\n",
    "from heapq import nsmallest"
   ]
  },
  {
   "cell_type": "code",
   "execution_count": 73,
   "metadata": {},
   "outputs": [
    {
     "name": "stdout",
     "output_type": "stream",
     "text": [
      "15226\n",
      "2299\n",
      "0       146.66660\n",
      "1       142.59039\n",
      "2       143.47565\n",
      "3       145.23472\n",
      "4       145.21398\n",
      "          ...    \n",
      "2294    145.31604\n",
      "2295    145.08148\n",
      "2296    144.90520\n",
      "2297    145.31589\n",
      "2298    145.29327\n",
      "Name: X, Length: 2299, dtype: float64\n"
     ]
    }
   ],
   "source": [
    "df_property = pd.read_csv('../data/curated/property.csv')\n",
    "\n",
    "property_coor = []\n",
    "for index, row in df_property.iterrows():\n",
    "    if re.search(r'\\[(-\\d+.\\d+)',str(row['coordinates'])): \n",
    "        lat = float(re.findall(r'\\[(-\\d+.\\d+)',str(row['coordinates']))[0])\n",
    "        long = float(re.findall(r'(\\d+.\\d+)\\]',str(row['coordinates']))[0])\n",
    "        property_coor.append((long,lat))\n",
    "    else:\n",
    "        property_coor.append((0,0))\n",
    "print(len(property_coor))\n",
    "\n",
    "df_school = pd.read_csv('../data/curated/school.csv')\n",
    "\n",
    "school_coor = []\n",
    "for index, row in df_school.iterrows():\n",
    "    if not math.isnan(row['Y']):\n",
    "        lat = row['Y']\n",
    "        long = row['X']\n",
    "        school_coor.append((long,lat))\n",
    "    else:\n",
    "        school_coor.append((0,0))\n",
    "print(len(school_coor))\n",
    "print(df_school['X'])\n"
   ]
  },
  {
   "cell_type": "code",
   "execution_count": 78,
   "metadata": {},
   "outputs": [],
   "source": [
    "# find the closest 4 schools for each property based on euclidean distance\n",
    "# api has accessed limits so that it is difficult to track the route between each school and each property\n",
    "\n",
    "from unicodedata import name\n",
    "\n",
    "\n",
    "school_coor = np.array(school_coor)\n",
    "property_coor = np.array(property_coor)\n",
    "\n",
    "def get_school(i):\n",
    "    # calculate euclidean distance\n",
    "    distances = np.linalg.norm(school_coor-property_coor[i], axis=1)\n",
    "    min_index = np.argmin(distances)\n",
    "\n",
    "    # find the 4 nearest school\n",
    "    index = list(range(len(school_coor)))\n",
    "    pairs = zip(index, distances)\n",
    "    result = nsmallest(4, pairs, key=itemgetter(1))\n",
    "    index_list = [i[0] for i in result]\n",
    "\n",
    "    # store the name and the coordinates of the 4 nearest schools\n",
    "    name_list = [df_school['School_Name'][i] for i in index_list]\n",
    "    coor_list = [(df_school['X'][i],df_school['Y'][i])for i in index_list]\n",
    "\n",
    "    return name_list, coor_list\n",
    "\n",
    "# for each property, get corresponding closest schools\n",
    "name_list = []\n",
    "coor_list = []\n",
    "\n",
    "for i in range(len(property_coor)):\n",
    "    name_list.append(get_school(i)[0])\n",
    "    coor_list.append(get_school(i)[1])\n"
   ]
  },
  {
   "cell_type": "code",
   "execution_count": 46,
   "metadata": {},
   "outputs": [
    {
     "name": "stdout",
     "output_type": "stream",
     "text": [
      "17525\n"
     ]
    },
    {
     "ename": "ApiError",
     "evalue": "400 ({'error': {'code': 6004, 'message': 'Request parameters exceed the server configuration limits. Only a total of 3500 routes are allowed.'}, 'info': {'engine': {'version': '6.7.0', 'build_date': '2022-02-18T19:37:41Z'}, 'timestamp': 1663562208504}})",
     "output_type": "error",
     "traceback": [
      "\u001b[0;31m---------------------------------------------------------------------------\u001b[0m",
      "\u001b[0;31mApiError\u001b[0m                                  Traceback (most recent call last)",
      "\u001b[0;32m/var/folders/1l/kxzgd7qj0958pcn5xj1149ph0000gn/T/ipykernel_16511/2689500171.py\u001b[0m in \u001b[0;36m<module>\u001b[0;34m\u001b[0m\n\u001b[1;32m     18\u001b[0m     \u001b[0mprint\u001b[0m\u001b[0;34m(\u001b[0m\u001b[0;34m\"Distances in m: {}\"\u001b[0m\u001b[0;34m.\u001b[0m\u001b[0mformat\u001b[0m\u001b[0;34m(\u001b[0m\u001b[0mmatrix\u001b[0m\u001b[0;34m[\u001b[0m\u001b[0;34m'distances'\u001b[0m\u001b[0;34m]\u001b[0m\u001b[0;34m)\u001b[0m\u001b[0;34m)\u001b[0m\u001b[0;34m\u001b[0m\u001b[0;34m\u001b[0m\u001b[0m\n\u001b[1;32m     19\u001b[0m \u001b[0;34m\u001b[0m\u001b[0m\n\u001b[0;32m---> 20\u001b[0;31m \u001b[0mget_closest_school\u001b[0m\u001b[0;34m(\u001b[0m\u001b[0;36m0\u001b[0m\u001b[0;34m)\u001b[0m\u001b[0;34m\u001b[0m\u001b[0;34m\u001b[0m\u001b[0m\n\u001b[0m",
      "\u001b[0;32m/var/folders/1l/kxzgd7qj0958pcn5xj1149ph0000gn/T/ipykernel_16511/2689500171.py\u001b[0m in \u001b[0;36mget_closest_school\u001b[0;34m(iter)\u001b[0m\n\u001b[1;32m      5\u001b[0m \u001b[0;32mdef\u001b[0m \u001b[0mget_closest_school\u001b[0m\u001b[0;34m(\u001b[0m\u001b[0miter\u001b[0m\u001b[0;34m)\u001b[0m\u001b[0;34m:\u001b[0m\u001b[0;34m\u001b[0m\u001b[0;34m\u001b[0m\u001b[0m\n\u001b[1;32m      6\u001b[0m \u001b[0;34m\u001b[0m\u001b[0m\n\u001b[0;32m----> 7\u001b[0;31m     matrix = client.distance_matrix(\n\u001b[0m\u001b[1;32m      8\u001b[0m         \u001b[0mlocations\u001b[0m\u001b[0;34m=\u001b[0m\u001b[0mcombine_coor\u001b[0m\u001b[0;34m,\u001b[0m\u001b[0;34m\u001b[0m\u001b[0;34m\u001b[0m\u001b[0m\n\u001b[1;32m      9\u001b[0m         \u001b[0mprofile\u001b[0m\u001b[0;34m=\u001b[0m\u001b[0;34m'driving-car'\u001b[0m\u001b[0;34m,\u001b[0m\u001b[0;34m\u001b[0m\u001b[0;34m\u001b[0m\u001b[0m\n",
      "\u001b[0;32m~/opt/anaconda3/lib/python3.9/site-packages/openrouteservice/client.py\u001b[0m in \u001b[0;36mwrapper\u001b[0;34m(*args, **kwargs)\u001b[0m\n\u001b[1;32m    297\u001b[0m     \u001b[0;32mdef\u001b[0m \u001b[0mwrapper\u001b[0m\u001b[0;34m(\u001b[0m\u001b[0;34m*\u001b[0m\u001b[0margs\u001b[0m\u001b[0;34m,\u001b[0m \u001b[0;34m**\u001b[0m\u001b[0mkwargs\u001b[0m\u001b[0;34m)\u001b[0m\u001b[0;34m:\u001b[0m\u001b[0;34m\u001b[0m\u001b[0;34m\u001b[0m\u001b[0m\n\u001b[1;32m    298\u001b[0m         \u001b[0margs\u001b[0m\u001b[0;34m[\u001b[0m\u001b[0;36m0\u001b[0m\u001b[0;34m]\u001b[0m\u001b[0;34m.\u001b[0m\u001b[0m_extra_params\u001b[0m \u001b[0;34m=\u001b[0m \u001b[0mkwargs\u001b[0m\u001b[0;34m.\u001b[0m\u001b[0mpop\u001b[0m\u001b[0;34m(\u001b[0m\u001b[0;34m\"extra_params\"\u001b[0m\u001b[0;34m,\u001b[0m \u001b[0;32mNone\u001b[0m\u001b[0;34m)\u001b[0m\u001b[0;34m\u001b[0m\u001b[0;34m\u001b[0m\u001b[0m\n\u001b[0;32m--> 299\u001b[0;31m         \u001b[0mresult\u001b[0m \u001b[0;34m=\u001b[0m \u001b[0mfunc\u001b[0m\u001b[0;34m(\u001b[0m\u001b[0;34m*\u001b[0m\u001b[0margs\u001b[0m\u001b[0;34m,\u001b[0m \u001b[0;34m**\u001b[0m\u001b[0mkwargs\u001b[0m\u001b[0;34m)\u001b[0m\u001b[0;34m\u001b[0m\u001b[0;34m\u001b[0m\u001b[0m\n\u001b[0m\u001b[1;32m    300\u001b[0m         \u001b[0;32mtry\u001b[0m\u001b[0;34m:\u001b[0m\u001b[0;34m\u001b[0m\u001b[0;34m\u001b[0m\u001b[0m\n\u001b[1;32m    301\u001b[0m             \u001b[0;32mdel\u001b[0m \u001b[0margs\u001b[0m\u001b[0;34m[\u001b[0m\u001b[0;36m0\u001b[0m\u001b[0;34m]\u001b[0m\u001b[0;34m.\u001b[0m\u001b[0m_extra_params\u001b[0m\u001b[0;34m\u001b[0m\u001b[0;34m\u001b[0m\u001b[0m\n",
      "\u001b[0;32m~/opt/anaconda3/lib/python3.9/site-packages/openrouteservice/distance_matrix.py\u001b[0m in \u001b[0;36mdistance_matrix\u001b[0;34m(client, locations, profile, sources, destinations, metrics, resolve_locations, units, optimized, validate, dry_run)\u001b[0m\n\u001b[1;32m    114\u001b[0m         \u001b[0mparams\u001b[0m\u001b[0;34m[\u001b[0m\u001b[0;34m\"optimized\"\u001b[0m\u001b[0;34m]\u001b[0m \u001b[0;34m=\u001b[0m \u001b[0moptimized\u001b[0m\u001b[0;34m\u001b[0m\u001b[0;34m\u001b[0m\u001b[0m\n\u001b[1;32m    115\u001b[0m \u001b[0;34m\u001b[0m\u001b[0m\n\u001b[0;32m--> 116\u001b[0;31m     \u001b[0;32mreturn\u001b[0m \u001b[0mclient\u001b[0m\u001b[0;34m.\u001b[0m\u001b[0mrequest\u001b[0m\u001b[0;34m(\u001b[0m\u001b[0;34m\"/v2/matrix/\"\u001b[0m \u001b[0;34m+\u001b[0m \u001b[0mprofile\u001b[0m \u001b[0;34m+\u001b[0m \u001b[0;34m'/json'\u001b[0m\u001b[0;34m,\u001b[0m \u001b[0;34m{\u001b[0m\u001b[0;34m}\u001b[0m\u001b[0;34m,\u001b[0m \u001b[0mpost_json\u001b[0m\u001b[0;34m=\u001b[0m\u001b[0mparams\u001b[0m\u001b[0;34m,\u001b[0m \u001b[0mdry_run\u001b[0m\u001b[0;34m=\u001b[0m\u001b[0mdry_run\u001b[0m\u001b[0;34m)\u001b[0m\u001b[0;34m\u001b[0m\u001b[0;34m\u001b[0m\u001b[0m\n\u001b[0m",
      "\u001b[0;32m~/opt/anaconda3/lib/python3.9/site-packages/openrouteservice/client.py\u001b[0m in \u001b[0;36mrequest\u001b[0;34m(self, url, get_params, first_request_time, retry_counter, requests_kwargs, post_json, dry_run)\u001b[0m\n\u001b[1;32m    202\u001b[0m \u001b[0;34m\u001b[0m\u001b[0m\n\u001b[1;32m    203\u001b[0m         \u001b[0;32mtry\u001b[0m\u001b[0;34m:\u001b[0m\u001b[0;34m\u001b[0m\u001b[0;34m\u001b[0m\u001b[0m\n\u001b[0;32m--> 204\u001b[0;31m             \u001b[0mresult\u001b[0m \u001b[0;34m=\u001b[0m \u001b[0mself\u001b[0m\u001b[0;34m.\u001b[0m\u001b[0m_get_body\u001b[0m\u001b[0;34m(\u001b[0m\u001b[0mresponse\u001b[0m\u001b[0;34m)\u001b[0m\u001b[0;34m\u001b[0m\u001b[0;34m\u001b[0m\u001b[0m\n\u001b[0m\u001b[1;32m    205\u001b[0m \u001b[0;34m\u001b[0m\u001b[0m\n\u001b[1;32m    206\u001b[0m             \u001b[0;32mreturn\u001b[0m \u001b[0mresult\u001b[0m\u001b[0;34m\u001b[0m\u001b[0;34m\u001b[0m\u001b[0m\n",
      "\u001b[0;32m~/opt/anaconda3/lib/python3.9/site-packages/openrouteservice/client.py\u001b[0m in \u001b[0;36m_get_body\u001b[0;34m(response)\u001b[0m\n\u001b[1;32m    240\u001b[0m             )\n\u001b[1;32m    241\u001b[0m         \u001b[0;32mif\u001b[0m \u001b[0mstatus_code\u001b[0m \u001b[0;34m!=\u001b[0m \u001b[0;36m200\u001b[0m\u001b[0;34m:\u001b[0m\u001b[0;34m\u001b[0m\u001b[0;34m\u001b[0m\u001b[0m\n\u001b[0;32m--> 242\u001b[0;31m             raise exceptions.ApiError(\n\u001b[0m\u001b[1;32m    243\u001b[0m                 \u001b[0mstatus_code\u001b[0m\u001b[0;34m,\u001b[0m\u001b[0;34m\u001b[0m\u001b[0;34m\u001b[0m\u001b[0m\n\u001b[1;32m    244\u001b[0m                 \u001b[0mbody\u001b[0m\u001b[0;34m\u001b[0m\u001b[0;34m\u001b[0m\u001b[0m\n",
      "\u001b[0;31mApiError\u001b[0m: 400 ({'error': {'code': 6004, 'message': 'Request parameters exceed the server configuration limits. Only a total of 3500 routes are allowed.'}, 'info': {'engine': {'version': '6.7.0', 'build_date': '2022-02-18T19:37:41Z'}, 'timestamp': 1663562208504}})"
     ]
    }
   ],
   "source": [
    "combine_coor = property_coor + school_coor\n",
    "\n",
    "print(len(combine_coor))\n",
    "\n",
    "def get_closest_school(iter):\n",
    "\n",
    "    matrix = client.distance_matrix(\n",
    "        locations=combine_coor,\n",
    "        profile='driving-car',\n",
    "        metrics=['distance', 'duration'],\n",
    "        validate=False,\n",
    "        destinations=[15227,15228],\n",
    "        sources=iter,\n",
    "    )\n",
    "    \n",
    "    \n",
    "    print(\"Durations in secs: {}\\n\".format(matrix['durations']))\n",
    "    print(\"Distances in m: {}\".format(matrix['distances']))\n",
    "\n",
    "get_closest_school(0)"
   ]
  },
  {
   "cell_type": "code",
   "execution_count": 55,
   "metadata": {},
   "outputs": [
    {
     "name": "stdout",
     "output_type": "stream",
     "text": [
      "400 Bad Request\n",
      "1\n",
      "{\"error\":{\"code\":6004,\"message\":\"Request parameters exceed the server configuration limits. Only a total of 3500 routes are allowed.\"},\"info\":{\"engine\":{\"version\":\"6.7.0\",\"build_date\":\"2022-02-18T19:37:41Z\"},\"timestamp\":1663562618493}}\n"
     ]
    }
   ],
   "source": [
    "import requests\n",
    "\n",
    "l = range(15227, len(combine_coor))\n",
    "\n",
    "body = {\"locations\":combine_coor,\"destinations\":list(l),\"metrics\":[\"distance\",\"duration\"],\"sources\":[0,1]}\n",
    "\n",
    "headers = {\n",
    "    'Accept': 'application/json, application/geo+json, application/gpx+xml, img/png; charset=utf-8',\n",
    "    'Authorization': '5b3ce3597851110001cf6248f4b857eea0554d93886b4c09e748b2bf',\n",
    "    'Content-Type': 'application/json; charset=utf-8'\n",
    "}\n",
    "call = requests.post('https://api.openrouteservice.org/v2/matrix/driving-car', json=body, headers=headers)\n",
    "\n",
    "print(call.status_code, call.reason)\n",
    "print(1)\n",
    "print(call.text)"
   ]
  }
 ],
 "metadata": {
  "kernelspec": {
   "display_name": "Python 3.9.7 ('base')",
   "language": "python",
   "name": "python3"
  },
  "language_info": {
   "codemirror_mode": {
    "name": "ipython",
    "version": 3
   },
   "file_extension": ".py",
   "mimetype": "text/x-python",
   "name": "python",
   "nbconvert_exporter": "python",
   "pygments_lexer": "ipython3",
   "version": "3.9.7"
  },
  "orig_nbformat": 4,
  "vscode": {
   "interpreter": {
    "hash": "cc2379f458d55a7a1b90305c55461d88bd7f754fbea20f9190016acffac2dcca"
   }
  }
 },
 "nbformat": 4,
 "nbformat_minor": 2
}
