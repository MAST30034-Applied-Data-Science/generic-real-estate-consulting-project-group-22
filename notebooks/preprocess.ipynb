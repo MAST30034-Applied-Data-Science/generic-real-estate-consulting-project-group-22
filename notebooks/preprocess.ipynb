{
 "cells": [
  {
   "cell_type": "code",
   "execution_count": 15,
   "metadata": {},
   "outputs": [],
   "source": [
    "import pandas as pd\n",
    "import numpy as np\n",
    "import csv\n",
    "import json"
   ]
  },
  {
   "cell_type": "markdown",
   "metadata": {},
   "source": [
    "### Boundary"
   ]
  },
  {
   "cell_type": "code",
   "execution_count": 16,
   "metadata": {},
   "outputs": [],
   "source": [
    "import geopandas as gpd"
   ]
  },
  {
   "cell_type": "code",
   "execution_count": 17,
   "metadata": {},
   "outputs": [],
   "source": [
    "sf = gpd.read_file(\"../data/curated/sa2/SA2_2021_AUST_GDA94.shp\")\n",
    "gdf = gpd.GeoDataFrame(sf)\n",
    "gdf = gdf[gdf['STE_NAME21']=='Victoria']\n",
    "\n",
    "gdf = gdf[['SA2_NAME21','SA2_CODE21', 'geometry']]\n",
    "gdf.to_file('../data/curated/boundary.shp')"
   ]
  },
  {
   "cell_type": "markdown",
   "metadata": {},
   "source": [
    "### Postcode"
   ]
  },
  {
   "cell_type": "code",
   "execution_count": 17,
   "metadata": {},
   "outputs": [],
   "source": [
    "# we extract postcode in Victoria only\n",
    "tmp_lst = []\n",
    "with open('../data/raw/postcode.csv','r') as f:\n",
    "    reader = csv.reader(f)\n",
    "    for row in reader:\n",
    "        tmp_lst.append(row)\n",
    "df = pd.DataFrame(tmp_lst[1:], columns=tmp_lst[0])\n",
    "\n",
    "df = df[df['state']=='VIC']\n",
    "\n",
    "# we select some important columns for this dataset, such as SA2 code, SA2 name, latitude, longitude and so on\n",
    "data = df[['id','postcode','locality','state','long','lat','SA2_MAINCODE_2016','SA2_NAME_2016']] \n",
    "\n",
    "\n",
    "data.to_csv('../data/curated/postcode_vic.csv')"
   ]
  },
  {
   "cell_type": "markdown",
   "metadata": {},
   "source": [
    "### Property"
   ]
  },
  {
   "cell_type": "code",
   "execution_count": 25,
   "metadata": {},
   "outputs": [],
   "source": [
    "import re"
   ]
  },
  {
   "cell_type": "code",
   "execution_count": 60,
   "metadata": {},
   "outputs": [
    {
     "name": "stdout",
     "output_type": "stream",
     "text": [
      "15226\n",
      "15222\n"
     ]
    }
   ],
   "source": [
    "# for property json file, we want to convert it into data frame and save as csv\n",
    "f = open('../data/raw/example.json')\n",
    "data = json.load(f)\n",
    "df = pd.DataFrame.from_dict(data, orient='index')\n",
    "print(len(df))\n",
    "\n",
    "# drop the instances where coordinate information is not provided\n",
    "\n",
    "for index, row in df.iterrows():\n",
    "    if re.search(r'\\[(-\\d+.\\d+)',str(row['coordinates'])): \n",
    "        continue\n",
    "    else:\n",
    "        df = df.drop(index)\n",
    "\n",
    "\n",
    "print(len(df))\n",
    "\n",
    "df.to_csv('../data/curated/property.csv')"
   ]
  },
  {
   "cell_type": "markdown",
   "metadata": {},
   "source": [
    "### Unemployment"
   ]
  },
  {
   "cell_type": "code",
   "execution_count": 19,
   "metadata": {},
   "outputs": [
    {
     "name": "stderr",
     "output_type": "stream",
     "text": [
      "/var/folders/1l/kxzgd7qj0958pcn5xj1149ph0000gn/T/ipykernel_43824/4009520114.py:40: SettingWithCopyWarning: \n",
      "A value is trying to be set on a copy of a slice from a DataFrame.\n",
      "Try using .loc[row_indexer,col_indexer] = value instead\n",
      "\n",
      "See the caveats in the documentation: https://pandas.pydata.org/pandas-docs/stable/user_guide/indexing.html#returning-a-view-versus-a-copy\n",
      "  data[f'20{year}_unemploy_rate'] = combine_list[index]\n"
     ]
    }
   ],
   "source": [
    "# we want information in Victoria only and only analyse unemployment rate\n",
    "tmp_lst = []\n",
    "with open('../data/raw/unemployment.csv','r') as f:\n",
    "    reader = csv.reader(f)\n",
    "    for row in reader:\n",
    "        tmp_lst.append(row)\n",
    "df = pd.DataFrame(tmp_lst[2:], columns=tmp_lst[1])\n",
    "\n",
    "df = df[df['Data Item'] == 'Smoothed unemployment rate (%)']\n",
    "\n",
    "vic_code = gdf['SA2_CODE21']\n",
    "\n",
    "new = df['SA2 Code (2016 ASGS)'].isin(vic_code)\n",
    "data = df[new]\n",
    "\n",
    "data.dropna(subset = [\"Dec-10\",\"Mar-22\"], inplace=True)\n",
    "\n",
    "data.replace('-', 0, inplace=True)\n",
    "\n",
    "# the data records statistics from four months in each year from 2011 to 2021, and we want to combine those by year\n",
    "# we intend to take average of four months in each year\n",
    "def combine_column(year):\n",
    "    rate_list = []\n",
    "    for index, row in data.iterrows():\n",
    "        \n",
    "        total = float(row[f'Mar-{year}']) + float(row[f'Jun-{year}']) + float(row[f'Sep-{year}']) + float(row[f'Dec-{year}'])\n",
    "        rate_list.append(round(total/4,2))\n",
    "\n",
    "    return rate_list\n",
    "\n",
    "\n",
    "combine_list = []\n",
    "year_list = list(range(11, 22))\n",
    "for year in year_list:\n",
    "    rate_list = combine_column(year)\n",
    "    combine_list.append(rate_list)\n",
    "\n",
    "index = 0\n",
    "for year in year_list:\n",
    "    data[f'20{year}_unemploy_rate'] = combine_list[index]\n",
    "    index+=1\n",
    "\n",
    "data = data[['Data Item','Statistical Area Level 2 (SA2) (2016 ASGS)','SA2 Code (2016 ASGS)','2011_unemploy_rate','2012_unemploy_rate','2013_unemploy_rate','2014_unemploy_rate',\\\n",
    "    '2015_unemploy_rate','2016_unemploy_rate','2017_unemploy_rate','2018_unemploy_rate','2019_unemploy_rate','2020_unemploy_rate','2021_unemploy_rate']]\n",
    "\n",
    "data.to_csv('../data/curated/unemployment.csv')\n"
   ]
  },
  {
   "cell_type": "markdown",
   "metadata": {},
   "source": [
    "### School"
   ]
  },
  {
   "cell_type": "code",
   "execution_count": 59,
   "metadata": {},
   "outputs": [],
   "source": [
    "import math"
   ]
  },
  {
   "cell_type": "code",
   "execution_count": 71,
   "metadata": {},
   "outputs": [
    {
     "name": "stdout",
     "output_type": "stream",
     "text": [
      "2299\n",
      "2298\n"
     ]
    }
   ],
   "source": [
    "tmp_lst = []\n",
    "with open('../data/raw/school.csv', mode='r', encoding = \"ISO-8859-1\") as f:\n",
    "    reader = csv.reader(f)\n",
    "    header = next(reader)\n",
    "    for row in reader:\n",
    "        tmp_lst.append(row)\n",
    "df = pd.DataFrame(tmp_lst, columns=header)\n",
    "print(len(df))\n",
    "\n",
    "df = df[['Education_Sector','School_Name','School_Type','Address_Town','Address_State','Address_Postcode','X','Y']]\n",
    "\n",
    "for index, row in df.iterrows():\n",
    "    if row['X'] == '' or row['Y'] == '':\n",
    "        df = df.drop(index)\n",
    "\n",
    "print(len(df))\n",
    "df.to_csv('../data/curated/school.csv')"
   ]
  }
 ],
 "metadata": {
  "kernelspec": {
   "display_name": "Python 3.9.7 ('base')",
   "language": "python",
   "name": "python3"
  },
  "language_info": {
   "codemirror_mode": {
    "name": "ipython",
    "version": 3
   },
   "file_extension": ".py",
   "mimetype": "text/x-python",
   "name": "python",
   "nbconvert_exporter": "python",
   "pygments_lexer": "ipython3",
   "version": "3.9.7"
  },
  "orig_nbformat": 4,
  "vscode": {
   "interpreter": {
    "hash": "cc2379f458d55a7a1b90305c55461d88bd7f754fbea20f9190016acffac2dcca"
   }
  }
 },
 "nbformat": 4,
 "nbformat_minor": 2
}
