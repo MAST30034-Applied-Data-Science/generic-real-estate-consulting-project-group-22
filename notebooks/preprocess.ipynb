{
 "cells": [
  {
   "cell_type": "code",
   "execution_count": 7,
   "metadata": {},
   "outputs": [],
   "source": [
    "import pandas as pd\n",
    "import numpy as np\n",
    "import csv\n",
    "import json"
   ]
  },
  {
   "cell_type": "markdown",
   "metadata": {},
   "source": [
    "### Postcode"
   ]
  },
  {
   "cell_type": "code",
   "execution_count": 8,
   "metadata": {},
   "outputs": [],
   "source": [
    "# we extract postcode in Victoria only\n",
    "tmp_lst = []\n",
    "with open('../data/raw/postcode.csv','r') as f:\n",
    "    reader = csv.reader(f)\n",
    "    for row in reader:\n",
    "        tmp_lst.append(row)\n",
    "df = pd.DataFrame(tmp_lst[1:], columns=tmp_lst[0])\n",
    "\n",
    "df = df[df['state']=='VIC']\n",
    "\n",
    "# we select some important columns for this dataset, such as SA2 code, SA2 name, latitude, longitude and so on\n",
    "data = df[['id','postcode','locality','state','long','lat','SA2_MAINCODE_2016','SA2_NAME_2016']] \n",
    "\n",
    "# remove duplicates based on SA2 code\n",
    "data = data.drop_duplicates(['SA2_MAINCODE_2016'])\n",
    "\n",
    "data.to_csv('../data/curated/postcode_vic.csv')"
   ]
  },
  {
   "cell_type": "markdown",
   "metadata": {},
   "source": [
    "### Property"
   ]
  },
  {
   "cell_type": "code",
   "execution_count": 9,
   "metadata": {},
   "outputs": [
    {
     "name": "stdout",
     "output_type": "stream",
     "text": [
      "15226\n"
     ]
    }
   ],
   "source": [
    "# for property json file, we want to convert it into data frame and save as csv\n",
    "f = open('../data/raw/example.json')\n",
    "data = json.load(f)\n",
    "df = pd.DataFrame.from_dict(data, orient='index')\n",
    "print(len(df))\n",
    "df.to_csv('../data/curated/property.csv')"
   ]
  },
  {
   "cell_type": "markdown",
   "metadata": {},
   "source": [
    "### Unemployment"
   ]
  },
  {
   "cell_type": "code",
   "execution_count": 10,
   "metadata": {},
   "outputs": [],
   "source": [
    "# we want information in Victoria only and only analyse unemployment rate\n",
    "tmp_lst = []\n",
    "with open('../data/raw/unemployment.csv','r') as f:\n",
    "    reader = csv.reader(f)\n",
    "    for row in reader:\n",
    "        tmp_lst.append(row)\n",
    "df = pd.DataFrame(tmp_lst[2:], columns=tmp_lst[1])\n",
    "\n",
    "df = df[df['Data Item'] == 'Smoothed unemployment rate (%)']\n",
    "\n",
    "vic_code = []\n",
    "with open('../data/curated/postcode_vic.csv', 'r') as f:\n",
    "    reader = csv.reader(f)\n",
    "    for row in reader:\n",
    "        vic_code.append(row[7])\n",
    "vic_code = vic_code[1:]\n",
    "\n",
    "new = df['SA2 Code (2016 ASGS)'].isin(vic_code)\n",
    "data = df[new]\n",
    "\n",
    "data.to_csv('../data/curated/unemployment.csv')\n"
   ]
  },
  {
   "cell_type": "markdown",
   "metadata": {},
   "source": [
    "### School"
   ]
  },
  {
   "cell_type": "code",
   "execution_count": 11,
   "metadata": {},
   "outputs": [],
   "source": [
    "tmp_lst = []\n",
    "with open('../data/raw/school.csv', mode='r', encoding = \"ISO-8859-1\") as f:\n",
    "    reader = csv.reader(f)\n",
    "    header = next(reader)\n",
    "    for row in reader:\n",
    "        tmp_lst.append(row)\n",
    "df = pd.DataFrame(tmp_lst, columns=header)\n",
    "\n",
    "df = df[['Education_Sector','School_Name','School_Type','Address_Town','Address_State','Address_Postcode','X','Y']]\n",
    "\n",
    "df.to_csv('../data/curated/school.csv')"
   ]
  },
  {
   "cell_type": "markdown",
   "metadata": {},
   "source": [
    "### Boundary"
   ]
  },
  {
   "cell_type": "code",
   "execution_count": 12,
   "metadata": {},
   "outputs": [],
   "source": [
    "import geopandas as gpd"
   ]
  },
  {
   "cell_type": "code",
   "execution_count": 13,
   "metadata": {},
   "outputs": [],
   "source": [
    "sf = gpd.read_file(\"../data/curated/sa2/SA2_2021_AUST_GDA94.shp\")\n",
    "gdf = gpd.GeoDataFrame(sf)\n",
    "gdf = gdf[gdf['STE_NAME21']=='Victoria']\n",
    "\n",
    "gdf = gdf[['SA2_NAME21','SA2_CODE21', 'geometry']]\n",
    "gdf.to_file('../data/curated/boundary.shp')"
   ]
  }
 ],
 "metadata": {
  "kernelspec": {
   "display_name": "Python 3.9.7 ('base')",
   "language": "python",
   "name": "python3"
  },
  "language_info": {
   "codemirror_mode": {
    "name": "ipython",
    "version": 3
   },
   "file_extension": ".py",
   "mimetype": "text/x-python",
   "name": "python",
   "nbconvert_exporter": "python",
   "pygments_lexer": "ipython3",
   "version": "3.9.7"
  },
  "orig_nbformat": 4,
  "vscode": {
   "interpreter": {
    "hash": "cc2379f458d55a7a1b90305c55461d88bd7f754fbea20f9190016acffac2dcca"
   }
  }
 },
 "nbformat": 4,
 "nbformat_minor": 2
}
