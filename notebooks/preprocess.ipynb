{
 "cells": [
  {
   "cell_type": "code",
   "execution_count": 1,
   "metadata": {},
   "outputs": [
    {
     "name": "stdout",
     "output_type": "stream",
     "text": [
      "22/09/13 19:59:37 WARN Utils: Your hostname, U8JUX resolves to a loopback address: 127.0.1.1; using 172.21.180.32 instead (on interface eth0)\n",
      "22/09/13 19:59:37 WARN Utils: Set SPARK_LOCAL_IP if you need to bind to another address\n"
     ]
    },
    {
     "name": "stderr",
     "output_type": "stream",
     "text": [
      "Setting default log level to \"WARN\".\n",
      "To adjust logging level use sc.setLogLevel(newLevel). For SparkR, use setLogLevel(newLevel).\n"
     ]
    },
    {
     "name": "stdout",
     "output_type": "stream",
     "text": [
      "22/09/13 19:59:38 WARN NativeCodeLoader: Unable to load native-hadoop library for your platform... using builtin-java classes where applicable\n"
     ]
    }
   ],
   "source": [
    "from pyspark.sql import SparkSession\n",
    "\n",
    "# Create a spark session (which will run spark jobs)\n",
    "spark = (\n",
    "    SparkSession.builder.appName(\"MAST30034 Assignment 2\")\n",
    "    .config(\"spark.sql.repl.eagerEval.enabled\", True) \n",
    "    .config(\"spark.sql.parquet.cacheMetadata\", \"true\")\n",
    "    .getOrCreate()\n",
    ")"
   ]
  },
  {
   "cell_type": "code",
   "execution_count": 2,
   "metadata": {},
   "outputs": [],
   "source": [
    "import pandas as pd\n",
    "from pyspark.sql.functions import *\n",
    "import numpy as np\n",
    "import csv\n",
    "import json"
   ]
  },
  {
   "cell_type": "markdown",
   "metadata": {},
   "source": [
    "### Postcode"
   ]
  },
  {
   "cell_type": "code",
   "execution_count": 28,
   "metadata": {},
   "outputs": [],
   "source": [
    "# we extract postcode in Victoria only\n",
    "tmp_lst = []\n",
    "with open('../data/raw/postcode.csv', 'r') as f:\n",
    "    reader = csv.reader(f)\n",
    "    for row in reader:\n",
    "        tmp_lst.append(row)\n",
    "df = pd.DataFrame(tmp_lst[1:], columns=tmp_lst[0])\n",
    "\n",
    "df = df[df['state']=='VIC']\n",
    "\n",
    "# we select some important columns for this dataset, such as SA2 code, SA2 name, latitude, longitude and so on\n",
    "data = df[['id','postcode','locality','state','long','lat','SA2_MAINCODE_2016','SA2_NAME_2016']] \n",
    "\n",
    "# remove duplicates based on SA2 code and SA2 name\n",
    "data = data.drop_duplicates(['SA2_MAINCODE_2016','SA2_NAME_2016'])\n",
    "\n",
    "data.to_csv('../data/curated/postcode_vic.csv')"
   ]
  },
  {
   "cell_type": "markdown",
   "metadata": {},
   "source": [
    "### Property"
   ]
  },
  {
   "cell_type": "code",
   "execution_count": 3,
   "metadata": {},
   "outputs": [],
   "source": [
    "# for property json file, we want to convert it into data frame and save as csv\n",
    "f = open('../data/raw/example.json')\n",
    "data = json.load(f)\n",
    "df = pd.DataFrame.from_dict(data, orient='index')\n",
    "df.to_csv('../data/curated/property.csv')"
   ]
  },
  {
   "cell_type": "markdown",
   "metadata": {},
   "source": [
    "### Unemployment"
   ]
  },
  {
   "cell_type": "code",
   "execution_count": 47,
   "metadata": {},
   "outputs": [],
   "source": [
    "# we want information in Victoria only and only analyse unemployment rate\n",
    "\n",
    "tmp_lst = []\n",
    "with open('../data/raw/unemployment.csv', 'r') as f:\n",
    "    reader = csv.reader(f)\n",
    "    for row in reader:\n",
    "        tmp_lst.append(row)\n",
    "df = pd.DataFrame(tmp_lst[2:], columns=tmp_lst[1])\n",
    "\n",
    "df = df[df['Data Item'] == 'Smoothed unemployment rate (%)']\n",
    "\n",
    "vic_code = []\n",
    "with open('../data/curated/postcode_vic.csv', 'r') as f:\n",
    "    reader = csv.reader(f)\n",
    "    for row in reader:\n",
    "        vic_code.append(row[7])\n",
    "vic_code = vic_code[1:]\n",
    "\n",
    "new = df['SA2 Code (2016 ASGS)'].isin(vic_code)\n",
    "data = df[new]\n",
    "\n",
    "data.to_csv('../data/curated/unemployment.csv')\n"
   ]
  },
  {
   "cell_type": "markdown",
   "metadata": {},
   "source": [
    "### School"
   ]
  },
  {
   "cell_type": "code",
   "execution_count": 58,
   "metadata": {},
   "outputs": [],
   "source": [
    "tmp_lst = []\n",
    "with open('../data/raw/school.csv', mode='r', encoding = \"ISO-8859-1\") as f:\n",
    "    reader = csv.reader(f)\n",
    "    header = next(reader)\n",
    "    for row in reader:\n",
    "        tmp_lst.append(row)\n",
    "df = pd.DataFrame(tmp_lst, columns=header)\n",
    "\n",
    "df = df[['Education_Sector','School_Name','School_Type','Address_Town','Address_State','Address_Postcode','X','Y']]\n",
    "\n",
    "df.to_csv('../data/curated/school.csv')"
   ]
  }
 ],
 "metadata": {
  "kernelspec": {
   "display_name": "Python 3.10.4 64-bit",
   "language": "python",
   "name": "python3"
  },
  "language_info": {
   "codemirror_mode": {
    "name": "ipython",
    "version": 3
   },
   "file_extension": ".py",
   "mimetype": "text/x-python",
   "name": "python",
   "nbconvert_exporter": "python",
   "pygments_lexer": "ipython3",
   "version": "3.10.4"
  },
  "orig_nbformat": 4,
  "vscode": {
   "interpreter": {
    "hash": "916dbcbb3f70747c44a77c7bcd40155683ae19c65e1c03b4aa3499c5328201f1"
   }
  }
 },
 "nbformat": 4,
 "nbformat_minor": 2
}
