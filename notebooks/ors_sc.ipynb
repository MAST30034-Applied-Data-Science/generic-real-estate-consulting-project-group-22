{
 "cells": [
  {
   "cell_type": "code",
   "execution_count": 11,
   "metadata": {},
   "outputs": [],
   "source": [
    "import openrouteservice as ors\n",
    "import folium\n",
    "\n",
    "client = ors.Client(key='5b3ce3597851110001cf62480413a152b510459cabf5e54bcfb4a7a9')\n",
    "#client = ors.Client(key='5b3ce3597851110001cf6248f4b857eea0554d93886b4c09e748b2bf')"
   ]
  },
  {
   "cell_type": "code",
   "execution_count": 12,
   "metadata": {},
   "outputs": [],
   "source": [
    "import re\n",
    "import pandas as pd\n",
    "import math\n",
    "\n",
    "import numpy as np\n",
    "\n",
    "from operator import itemgetter\n",
    "from heapq import nsmallest\n",
    "\n",
    "from itertools import chain\n",
    "\n",
    "import time"
   ]
  },
  {
   "cell_type": "code",
   "execution_count": 13,
   "metadata": {},
   "outputs": [
    {
     "name": "stdout",
     "output_type": "stream",
     "text": [
      "15222\n",
      "363\n"
     ]
    }
   ],
   "source": [
    "df_property = pd.read_csv('../data/curated/property.csv')\n",
    "\n",
    "property_coor = []\n",
    "for index, row in df_property.iterrows():\n",
    "    lat = float(re.findall(r'\\[(-\\d+.\\d+)',str(row['coordinates']))[0])\n",
    "    long = float(re.findall(r'(\\d+.\\d+)\\]',str(row['coordinates']))[0])\n",
    "    property_coor.append((long,lat))\n",
    "\n",
    "print(len(property_coor))\n",
    "\n",
    "df_shop = pd.read_csv('../data/curated/shop_coord.csv')\n",
    "\n",
    "shop_coor = []\n",
    "for index, row in df_shop.iterrows():\n",
    "    lat = row['1']\n",
    "    long = row['0']\n",
    "    shop_coor.append((long,lat))\n",
    "    \n",
    "print(len(shop_coor))"
   ]
  },
  {
   "cell_type": "code",
   "execution_count": 7,
   "metadata": {},
   "outputs": [],
   "source": [
    "import geopy.distance"
   ]
  },
  {
   "cell_type": "code",
   "execution_count": 15,
   "metadata": {},
   "outputs": [
    {
     "name": "stdout",
     "output_type": "stream",
     "text": [
      "15222\n"
     ]
    }
   ],
   "source": [
    "# find the closest 3 shopping centres for each property based on distance\n",
    "# api has accessed limits so that it is difficult to track the route between each shopping centre and each property\n",
    "\n",
    "\n",
    "def get_shop(index):\n",
    "\n",
    "    # calculate distance between the property and each shopping centre\n",
    "    distances = [geopy.distance.geodesic((property_coor[index][1], property_coor[index][0]), (shop_coor[j][1], shop_coor[j][0])).km for j in range(len(shop_coor))]\n",
    "\n",
    "    # find the 3 nearest shopping centres \n",
    "    index = list(range(len(shop_coor)))\n",
    "    pairs = zip(index, distances)\n",
    "    result = nsmallest(3, pairs, key=itemgetter(1))\n",
    "    index_list = [i[0] for i in result]\n",
    "\n",
    "    # store the name and the coordinates of the 3 nearest shopping centres \n",
    "    name_list = [df_shop['name'][i] for i in index_list]\n",
    "    coor_list = [shop_coor[i] for i in index_list]\n",
    "    \n",
    "    result = []\n",
    "    result.append(name_list)\n",
    "    result.append(coor_list)\n",
    "\n",
    "    return result\n",
    "\n",
    "# for each property, get corresponding closest shopping centres \n",
    "name_list = []\n",
    "coor_list = []\n",
    "\n",
    "for i in range(len(property_coor)):\n",
    "    result = get_shop(i)\n",
    "    name_list.append(result[0])\n",
    "    coor_list.append(result[1])\n",
    "\n",
    "print(len(name_list))"
   ]
  },
  {
   "cell_type": "code",
   "execution_count": 16,
   "metadata": {},
   "outputs": [
    {
     "name": "stdout",
     "output_type": "stream",
     "text": [
      "[[196.15, 76.86, 52.87, 233.13, 236.37, 229.52, 105.33, 185.57, 197.97, 11.52, 169.93, 53.36, 165.69, 72.75, 126.31, 113.69, 171.23, 89.54, 222.43, 165.8, 109.15, 196.01, 161.52, 177.4, 184.03, 123.28, 123.28, 199.45, 191.54, 208.01, 202.51, 154.26, 114.85, 163.44]]\n",
      "[[1459.27, 480.58, 297.01, 1441.41, 1525.85, 1260.95, 736.44, 1221.34, 1098.77, 55.35, 835.73, 365.56, 1292.06, 561.68, 873.37, 891.69, 1227.91, 714.17, 1586.32, 1410.76, 843.02, 1482.76, 1202.73, 1429.71, 1527.67, 1034.25, 1034.25, 1500.27, 1621.61, 1731.61, 1675.17, 1294.06, 974.84, 1463.01]]\n",
      "[['Galleria', 'The District Docklands', 'The District Docklands', 'South Wharf DFO', 'South Wharf DFO', 'South Wharf DFO', 'The District Docklands', 'The District Docklands', 'South Wharf DFO', 'The District Docklands', 'South Wharf DFO', 'The District Docklands', '18 Albert Footscray Plaza', '18 Albert Footscray Plaza', '18 Albert Footscray Plaza', '18 Albert Footscray Plaza', '18 Albert Footscray Plaza', '18 Albert Footscray Plaza', '18 Albert Footscray Plaza', '18 Albert Footscray Plaza', '18 Albert Footscray Plaza', '18 Albert Footscray Plaza', '18 Albert Footscray Plaza', '18 Albert Footscray Plaza', '18 Albert Footscray Plaza', '18 Albert Footscray Plaza', '18 Albert Footscray Plaza', '18 Albert Footscray Plaza', '18 Albert Footscray Plaza', '18 Albert Footscray Plaza', '18 Albert Footscray Plaza', '18 Albert Footscray Plaza', '18 Albert Footscray Plaza', '18 Albert Footscray Plaza']]\n",
      "[[(144.96291706359952, -37.81490827373213), (144.9377354346642, -37.81293442034686), (144.9377354346642, -37.81293442034686), (144.94954443185148, -37.825001675216136), (144.94954443185148, -37.825001675216136), (144.94954443185148, -37.825001675216136), (144.9377354346642, -37.81293442034686), (144.9377354346642, -37.81293442034686), (144.94954443185148, -37.825001675216136), (144.9377354346642, -37.81293442034686), (144.94954443185148, -37.825001675216136), (144.9377354346642, -37.81293442034686), (144.8974628868922, -37.80120264918572), (144.8974628868922, -37.80120264918572), (144.8974628868922, -37.80120264918572), (144.8974628868922, -37.80120264918572), (144.8974628868922, -37.80120264918572), (144.8974628868922, -37.80120264918572), (144.8974628868922, -37.80120264918572), (144.8974628868922, -37.80120264918572), (144.8974628868922, -37.80120264918572), (144.8974628868922, -37.80120264918572), (144.8974628868922, -37.80120264918572), (144.8974628868922, -37.80120264918572), (144.8974628868922, -37.80120264918572), (144.8974628868922, -37.80120264918572), (144.8974628868922, -37.80120264918572), (144.8974628868922, -37.80120264918572), (144.8974628868922, -37.80120264918572), (144.8974628868922, -37.80120264918572), (144.8974628868922, -37.80120264918572), (144.8974628868922, -37.80120264918572), (144.8974628868922, -37.80120264918572), (144.8974628868922, -37.80120264918572)]]\n"
     ]
    }
   ],
   "source": [
    "def get_shop_ors(iter):\n",
    "\n",
    "\n",
    "    flatten_list = list(chain.from_iterable(coor_list[iter*34:iter*34+34]))\n",
    "    combine_coor = property_coor[iter*34:iter*34+34] + flatten_list\n",
    "\n",
    "    if iter == len(df_property)//34:\n",
    "        count = len(df_property)-iter*34\n",
    "    else:\n",
    "        count = 34\n",
    "\n",
    "    matrix = client.distance_matrix(\n",
    "        locations=combine_coor,\n",
    "        profile='driving-car',\n",
    "        metrics=['distance', 'duration'],\n",
    "        validate=False,\n",
    "        destinations=list(range(count,len(combine_coor))),\n",
    "        sources=list(range(count)),\n",
    "    )\n",
    "\n",
    "    duration_list = []\n",
    "    distance_list = []\n",
    "    shop_name_list = []\n",
    "    shop_coor_list = []\n",
    "\n",
    "\n",
    "    for i in range(count):\n",
    "\n",
    "        min_index = np.argmin(matrix['durations'][i][i*3:i*3+3])\n",
    "        min_index_flat = min_index+i*3\n",
    "        duration_list.append(matrix['durations'][i][min_index_flat])\n",
    "        distance_list.append(matrix['distances'][i][min_index_flat])\n",
    "\n",
    "        shop_name_list.append(name_list[iter*34+i][min_index])\n",
    "        shop_coor_list.append(coor_list[iter*34+i][min_index])\n",
    "\n",
    "\n",
    "    #print(\"Durations in secs: {}\\n\".format(matrix['durations']))\n",
    "    #print(\"Distances in m: {}\".format(matrix['distances']))\n",
    "\n",
    "    # we only want to call the whole function once at each main iteration\n",
    "    result_list = []\n",
    "    result_list.append(duration_list)\n",
    "    result_list.append(distance_list)\n",
    "    result_list.append(shop_name_list)\n",
    "    result_list.append(shop_coor_list)\n",
    "\n",
    "    return result_list\n",
    "\n",
    "# A total of 3500 routes is allowed for each call of api, so that we can pass 34 groups of property \n",
    "# with corresponding 3 closest schools at each time\n",
    "\n",
    "duration_list = []\n",
    "distance_list = []\n",
    "shop_name_list = []\n",
    "shop_coor_list = []\n",
    "\n",
    "num_call = len(df_property)//34 + 1\n",
    "for i in range(num_call):\n",
    "    result = get_shop_ors(i)\n",
    "    \n",
    "    if i%40 == 0:\n",
    "        time.sleep(60)\n",
    "    \n",
    "    duration_list.append(result[0])\n",
    "    distance_list.append(result[1])\n",
    "    shop_name_list.append(result[2])\n",
    "    shop_coor_list.append(result[3])\n",
    "\n",
    "print(duration_list)\n",
    "print(distance_list)\n",
    "print(shop_name_list)\n",
    "print(shop_coor_list)"
   ]
  },
  {
   "cell_type": "code",
   "execution_count": null,
   "metadata": {},
   "outputs": [],
   "source": [
    "flatten_duration_list = list(chain.from_iterable(duration_list))\n",
    "flatten_distance_list = list(chain.from_iterable(distance_list))\n",
    "flatten_shop_name_list = list(chain.from_iterable(shop_name_list))\n",
    "flatten_shop_coor_list = list(chain.from_iterable(shop_coor_list))\n",
    "\n",
    "print(len(flatten_distance_list))"
   ]
  },
  {
   "cell_type": "code",
   "execution_count": null,
   "metadata": {},
   "outputs": [],
   "source": [
    "df = pd.read_csv('../data/curated/property.csv')\n",
    "\n",
    "df['driving_time_to_sc'] = flatten_duration_list\n",
    "df['distance_to_sc'] = flatten_distance_list\n",
    "df['closest_sc_name'] = flatten_shop_name_list\n",
    "df['closest_sc_coor'] = flatten_shop_coor_list\n",
    "\n",
    "df.to_csv('../data/curated/property_sc.csv')"
   ]
  }
 ],
 "metadata": {
  "kernelspec": {
   "display_name": "Python 3.9.7 ('base')",
   "language": "python",
   "name": "python3"
  },
  "language_info": {
   "codemirror_mode": {
    "name": "ipython",
    "version": 3
   },
   "file_extension": ".py",
   "mimetype": "text/x-python",
   "name": "python",
   "nbconvert_exporter": "python",
   "pygments_lexer": "ipython3",
   "version": "3.9.7"
  },
  "orig_nbformat": 4,
  "vscode": {
   "interpreter": {
    "hash": "cc2379f458d55a7a1b90305c55461d88bd7f754fbea20f9190016acffac2dcca"
   }
  }
 },
 "nbformat": 4,
 "nbformat_minor": 2
}
