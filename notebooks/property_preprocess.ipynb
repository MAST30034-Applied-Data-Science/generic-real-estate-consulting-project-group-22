{
 "cells": [
  {
   "cell_type": "code",
   "execution_count": 1,
   "metadata": {},
   "outputs": [],
   "source": [
    "import pandas as pd"
   ]
  },
  {
   "cell_type": "code",
   "execution_count": 9,
   "metadata": {},
   "outputs": [
    {
     "name": "stdout",
     "output_type": "stream",
     "text": [
      "   Unnamed: 0                                       Unnamed: 0.1  \\\n",
      "0           0  https://www.domain.com.au/3607-80-a-beckett-st...   \n",
      "1           1  https://www.domain.com.au/251-350-st-kilda-roa...   \n",
      "2           2  https://www.domain.com.au/231-299-queen-street...   \n",
      "3           3  https://www.domain.com.au/5401-464-collins-str...   \n",
      "4           4  https://www.domain.com.au/4103-80-abeckett-str...   \n",
      "\n",
      "                                          name       cost_text  \\\n",
      "0  3607/80 A'Beckett Street Melbourne VIC 3000   $3,000 weekly   \n",
      "1     251/350 St Kilda Road Melbourne VIC 3000  $2800 Per Week   \n",
      "2      231/299 Queen Street Melbourne VIC 3000       $2,600.00   \n",
      "3   5401/464 Collins Street Melbourne VIC 3000  $2500 Per Week   \n",
      "4   4103/80 ABeckett Street Melbourne VIC 3000   Contact Agent   \n",
      "\n",
      "                  coordinates       rooms        baths        parking  \\\n",
      "0  [-37.8090372, 144.9610905]  ['2 Beds']   ['1 Bath']             []   \n",
      "1   [-37.831142, 144.9708545]  ['3 Beds']  ['3 Baths']  ['3 Parking']   \n",
      "2  [-37.8114187, 144.9587916]  ['4 Beds']  ['4 Baths']  ['3 Parking']   \n",
      "3  [-37.8175602, 144.9585916]  ['3 Beds']  ['3 Baths']  ['2 Parking']   \n",
      "4  [-37.8089991, 144.9610792]  ['2 Beds']   ['1 Bath']             []   \n",
      "\n",
      "                                                desc area  ...  \\\n",
      "0  *Available at the time as advertised. Please c...  NaN  ...   \n",
      "1  Commanding a premier position in the most pres...  NaN  ...   \n",
      "2   class=\"css-dxogle\">* Unverified feature<svg a...  NaN  ...   \n",
      "3                                    Darren McMullin  NaN  ...   \n",
      "4   class=\"css-dxogle\">* Unverified feature<svg a...  NaN  ...   \n",
      "\n",
      "      closest_school_coor  driving_time_to_CBD distance_to_CBD  \\\n",
      "0  (144.95509, -37.80519)               546.54         5088.47   \n",
      "1  (144.97709, -37.83359)               363.29         3073.39   \n",
      "2  (144.95442, -37.81289)               503.17         4658.67   \n",
      "3  (144.95615, -37.81654)               398.12         3743.68   \n",
      "4  (144.95509, -37.80519)               546.60         5088.82   \n",
      "\n",
      "  driving_time_to_sc  distance_to_sc    closest_sc_name  \\\n",
      "0              57.76          371.42  Melbourne Central   \n",
      "1             241.71         2043.07          Southgate   \n",
      "2              94.27          521.19  Melbourne Central   \n",
      "3              76.49          660.80           Galleria   \n",
      "4              57.81          371.77  Melbourne Central   \n",
      "\n",
      "                            closest_sc_coor  driving_time_to_station  \\\n",
      "0    (144.962912396966, -37.81069091898223)                   249.20   \n",
      "1  (144.96621782341276, -37.82023258031903)                   137.31   \n",
      "2    (144.962912396966, -37.81069091898223)                   207.30   \n",
      "3  (144.96291706359952, -37.81490827373213)                    88.92   \n",
      "4    (144.962912396966, -37.81069091898223)                   249.26   \n",
      "\n",
      "  distance_to_station                      closest_station_coor  \n",
      "0             1947.47  (144.96582714969728, -37.81816473870898)  \n",
      "1             1482.00  (144.96753934721428, -37.81870246654233)  \n",
      "2             1590.03  (144.95246361302495, -37.81839387816963)  \n",
      "3              651.38  (144.95246361302495, -37.81839387816963)  \n",
      "4             1947.82  (144.96582714969728, -37.81816473870898)  \n",
      "\n",
      "[5 rows x 23 columns]\n"
     ]
    }
   ],
   "source": [
    "df_school_prop = pd.read_csv('../data/curated/property_school.csv')\n",
    "df_cbd_prop = pd.read_csv('../data/curated/property_cbd.csv')\n",
    "df_sc_prop = pd.read_csv('../data/curated/property_sc.csv')\n",
    "df_train_prop = pd.read_csv('../data/curated/property_train.csv')\n",
    "\n",
    "\n",
    "same_attr = ['Unnamed: 0','Unnamed: 0.1','name','cost_text','coordinates','rooms','baths','parking','desc','area']\n",
    "df = pd.merge(df_school_prop,df_cbd_prop,on=same_attr)\n",
    "df = pd.merge(df,df_sc_prop,on=same_attr)\n",
    "df = pd.merge(df,df_train_prop,on=same_attr)\n",
    "\n",
    "print(df.head())\n",
    "\n",
    "df.to_csv('../data/curated/property_full.csv')"
   ]
  }
 ],
 "metadata": {
  "kernelspec": {
   "display_name": "Python 3.9.7 ('base')",
   "language": "python",
   "name": "python3"
  },
  "language_info": {
   "codemirror_mode": {
    "name": "ipython",
    "version": 3
   },
   "file_extension": ".py",
   "mimetype": "text/x-python",
   "name": "python",
   "nbconvert_exporter": "python",
   "pygments_lexer": "ipython3",
   "version": "3.9.7"
  },
  "orig_nbformat": 4,
  "vscode": {
   "interpreter": {
    "hash": "cc2379f458d55a7a1b90305c55461d88bd7f754fbea20f9190016acffac2dcca"
   }
  }
 },
 "nbformat": 4,
 "nbformat_minor": 2
}
