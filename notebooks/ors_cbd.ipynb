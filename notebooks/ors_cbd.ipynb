{
 "cells": [
  {
   "cell_type": "code",
   "execution_count": 17,
   "metadata": {},
   "outputs": [],
   "source": [
    "import openrouteservice as ors\n",
    "import folium\n",
    "\n",
    "client = ors.Client(key='5b3ce3597851110001cf62480413a152b510459cabf5e54bcfb4a7a9')\n",
    "#client = ors.Client(key='5b3ce3597851110001cf6248f4b857eea0554d93886b4c09e748b2bf')"
   ]
  },
  {
   "cell_type": "code",
   "execution_count": 2,
   "metadata": {},
   "outputs": [],
   "source": [
    "import re\n",
    "import pandas as pd\n",
    "import math\n",
    "\n",
    "import numpy as np\n",
    "\n",
    "from operator import itemgetter\n",
    "from heapq import nsmallest\n",
    "\n",
    "from itertools import chain\n",
    "\n",
    "import time"
   ]
  },
  {
   "cell_type": "code",
   "execution_count": 10,
   "metadata": {},
   "outputs": [
    {
     "name": "stdout",
     "output_type": "stream",
     "text": [
      "15222\n"
     ]
    }
   ],
   "source": [
    "df_property = pd.read_csv('../data/curated/property.csv')\n",
    "\n",
    "property_coor = []\n",
    "for index, row in df_property.iterrows():\n",
    "    lat = float(re.findall(r'\\[(-\\d+.\\d+)',str(row['coordinates']))[0])\n",
    "    long = float(re.findall(r'(\\d+.\\d+)\\]',str(row['coordinates']))[0])\n",
    "    property_coor.append((long,lat))\n",
    "\n",
    "print(len(property_coor))\n",
    "\n",
    "# set the location of Melbourne CBD\n",
    "cbd_coor = [(144.946457,-37.840935)]\n"
   ]
  },
  {
   "cell_type": "code",
   "execution_count": 14,
   "metadata": {},
   "outputs": [
    {
     "name": "stdout",
     "output_type": "stream",
     "text": [
      "(144.946457, -37.840935)\n",
      "3501\n"
     ]
    }
   ],
   "source": [
    "\n",
    "iter = 0\n",
    "combine_coor = property_coor[iter*3500:iter*3500+3500] + cbd_coor\n",
    "\n",
    "print(combine_coor[len(combine_coor)-1])\n",
    "print(len(combine_coor))\n"
   ]
  },
  {
   "cell_type": "code",
   "execution_count": 18,
   "metadata": {},
   "outputs": [],
   "source": [
    "def get_cbd_ors(iter):\n",
    "    \n",
    "    combine_coor = property_coor[iter*3500:iter*3500+3500] + cbd_coor\n",
    "\n",
    "    matrix = client.distance_matrix(\n",
    "        locations=combine_coor,\n",
    "        profile='driving-car',\n",
    "        metrics=['distance', 'duration'],\n",
    "        validate=False,\n",
    "        destinations=[len(combine_coor)-1],\n",
    "        sources=list(range(len(combine_coor)-1)),\n",
    "    )\n",
    "\n",
    "\n",
    "    print(\"Durations in secs: {}\\n\".format(matrix['durations']))\n",
    "    print(\"Distances in m: {}\".format(matrix['distances']))\n",
    "\n",
    "    # we only want to call the whole function once at each main iteration\n",
    "    result_list = []\n",
    "    result_list.append(matrix['durations'])\n",
    "    result_list.append(matrix['distances'])\n",
    "    return result_list\n",
    "\n",
    "# A total of 3500 routes is allowed for each call of api, so that we can pass 3500 properties at each time\n",
    "# with corresponding 3 closest schools at each time\n",
    "\n",
    "duration_list = []\n",
    "distance_list = []\n",
    "\n",
    "num_call = len(df_property)//3500 + 1\n",
    "\n",
    "for i in range(num_call):\n",
    "\n",
    "    result = get_cbd_ors(i)\n",
    "\n",
    "    duration_list.append(result[0])\n",
    "    distance_list.append(result[1])\n",
    "\n",
    "\n",
    "print(duration_list)\n",
    "print(distance_list)\n"
   ]
  }
 ],
 "metadata": {
  "kernelspec": {
   "display_name": "Python 3.9.7 ('base')",
   "language": "python",
   "name": "python3"
  },
  "language_info": {
   "codemirror_mode": {
    "name": "ipython",
    "version": 3
   },
   "file_extension": ".py",
   "mimetype": "text/x-python",
   "name": "python",
   "nbconvert_exporter": "python",
   "pygments_lexer": "ipython3",
   "version": "3.9.7"
  },
  "orig_nbformat": 4,
  "vscode": {
   "interpreter": {
    "hash": "cc2379f458d55a7a1b90305c55461d88bd7f754fbea20f9190016acffac2dcca"
   }
  }
 },
 "nbformat": 4,
 "nbformat_minor": 2
}
