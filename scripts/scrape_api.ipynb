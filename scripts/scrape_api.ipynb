{
 "cells": [
  {
   "cell_type": "code",
   "execution_count": null,
   "metadata": {},
   "outputs": [],
   "source": [
    "import requests\n",
    "import json\n",
    "import pandas as pd\n",
    "from collections import defaultdict\n",
    "\n",
    "client_id = 'client_230eaf0def104b549ba6fe40ef5a348b'\n",
    "client_secret = 'secret_5ddff1be1b346fb4481a46cfb127c0f1'\n",
    "auth_url = 'https://auth.domain.com.au/v1/connect/token'\n",
    "\n",
    "property_metadata = defaultdict(dict)\n",
    "\n",
    "def get_property(page, postcode):\n",
    "    response = requests.post(auth_url, data = {\n",
    "                        'client_id':client_id,\n",
    "                        'client_secret':client_secret,\n",
    "                        'grant_type':'client_credentials',\n",
    "                        'scope':\"api_agencies_read api_listings_read\",\n",
    "                        'Content-Type':'text/json'\n",
    "                        })\n",
    "    json_res = response.json()\n",
    "    access_token=json_res['access_token']\n",
    "\n",
    "    search_parameters = {\n",
    "       \"listingType\": \"Rent\",\n",
    "        \"locations\": [\n",
    "            {\n",
    "                \"state\": \"VIC\",   \n",
    "                \"postcode\": postcode,\n",
    "                \"includeSurroundingSuburbs\": False\n",
    "            }\n",
    "        ],\n",
    "        \"pageSize\": 100,\n",
    "        \"pageNumber\": page\n",
    "    }\n",
    "\n",
    "    auth = {'Authorization':'Bearer ' + access_token}\n",
    "    url = \"https://api.domain.com.au/v1/listings/residential/_search\"\n",
    "    request = requests.post(url, json=search_parameters, headers=auth)\n",
    "    details = request.json()\n",
    "    \n",
    "    property_metadata[postcode] = details\n",
    "\n",
    "\n",
    "for postcode in range(3000, 3999):\n",
    "    for page in range(10):\n",
    "        get_property(page, postcode)\n",
    "    \n",
    "    print(f'{postcode} done')\n",
    "\n",
    "# output to example json in data/raw/\n",
    "    with open(\"../data/raw/property.json\", \"w\") as f: \n",
    "        json.dump(property_metadata, f)\n"
   ]
  }
 ],
 "metadata": {
  "kernelspec": {
   "display_name": "Python 3.9.7 ('base')",
   "language": "python",
   "name": "python3"
  },
  "language_info": {
   "codemirror_mode": {
    "name": "ipython",
    "version": 3
   },
   "file_extension": ".py",
   "mimetype": "text/x-python",
   "name": "python",
   "nbconvert_exporter": "python",
   "pygments_lexer": "ipython3",
   "version": "3.9.7"
  },
  "orig_nbformat": 4,
  "vscode": {
   "interpreter": {
    "hash": "cc2379f458d55a7a1b90305c55461d88bd7f754fbea20f9190016acffac2dcca"
   }
  }
 },
 "nbformat": 4,
 "nbformat_minor": 2
}
