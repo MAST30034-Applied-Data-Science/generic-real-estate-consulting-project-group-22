{
 "cells": [
  {
   "cell_type": "code",
   "execution_count": 1,
   "metadata": {},
   "outputs": [
    {
     "name": "stdout",
     "output_type": "stream",
     "text": [
      "end population\n",
      "end income rate\n",
      "end unemployment\n",
      "end school\n",
      "end postcode\n",
      "end home-support\n",
      "end aged-care\n",
      "end crime\n",
      "end population_prediction\n"
     ]
    }
   ],
   "source": [
    "\n",
    "import urllib.request\n",
    "import os\n",
    "\n",
    "\n",
    "urlretrieve= urllib.request.urlretrieve\n",
    "raw_data_dir='../data/raw/'\n",
    "\n",
    "# download population dataset\n",
    "url= f\"https://www.abs.gov.au/statistics/people/population/regional-population/2021/32180DS0001_2001-21.xlsx\"\n",
    "output_dir=f\"{raw_data_dir}population.xlsx\"\n",
    "urlretrieve(url, output_dir) \n",
    "print(\"end population\")\n",
    "\n",
    "# download income rate dataset\n",
    "url= f\"https://www.abs.gov.au/statistics/labour/jobs/jobs-australia/2014-15-2018-19/61600DS0001_2018-19.xlsx\"\n",
    "output_dir=f\"{raw_data_dir}income.xlsx\"\n",
    "urlretrieve(url, output_dir) \n",
    "print(\"end income rate\")\n",
    "\n",
    "# download unemployment rate dataset\n",
    "url= f\"https://www.nationalskillscommission.gov.au/sites/default/files/2022-06/SALM%20Smoothed%20SA2%20Datafiles%20%28ASGS%202016%29%20-%20March%20quarter%202022.csv\"\n",
    "output_dir=f\"{raw_data_dir}unemployment.csv\"\n",
    "urlretrieve(url, output_dir) \n",
    "print(\"end unemployment\")\n",
    "\n",
    "# download school locations dataset\n",
    "url= f\"https://www.education.vic.gov.au/Documents/about/research/datavic/dv331_schoollocations2022.csv\"\n",
    "output_dir=f\"{raw_data_dir}school.csv\"\n",
    "urlretrieve(url, output_dir) \n",
    "print(\"end school\")\n",
    "\n",
    "\n",
    "\n",
    "# download postcode dataset\n",
    "url= f\"https://www.matthewproctor.com/Content/postcodes/australian_postcodes.csv\"\n",
    "output_dir=f\"{raw_data_dir}postcode.csv\"\n",
    "# this website denies access with web crawler like urlretrieve\n",
    "opener=urllib.request.build_opener()\n",
    "opener.addheaders=[('User-Agent','Mozilla/5.0 (Windows NT 6.1; WOW64) AppleWebKit/537.36 (KHTML, like Gecko) Chrome/36.0.1941.0 Safari/537.36')]\n",
    "urllib.request.install_opener(opener)\n",
    "urlretrieve(url,output_dir)\n",
    "\n",
    "print(\"end postcode\")\n",
    "\n",
    "\n"
   ]
  },
  {
   "cell_type": "code",
   "execution_count": 2,
   "metadata": {},
   "outputs": [],
   "source": [
    "# download digital boundary files\n",
    "import zipfile\n",
    "\n",
    "url= f\"https://www.abs.gov.au/statistics/standards/australian-statistical-geography-standard-asgs-edition-3/jul2021-jun2026/access-and-downloads/digital-boundary-files/SA2_2021_AUST_SHP_GDA94.zip\"\n",
    "output_dir=f\"{raw_data_dir}sa2.zip\"\n",
    "urlretrieve(url, output_dir) \n",
    "\n",
    "with zipfile.ZipFile(\"../data/raw/sa2.zip\",\"r\") as zip_ref:\n",
    "    zip_ref.extractall(\"../data/curated/sa2/\")"
   ]
  },
  {
   "cell_type": "code",
   "execution_count": null,
   "metadata": {},
   "outputs": [],
   "source": []
  }
 ],
 "metadata": {
  "kernelspec": {
   "display_name": "Python 3.10.4 64-bit",
   "language": "python",
   "name": "python3"
  },
  "language_info": {
   "codemirror_mode": {
    "name": "ipython",
    "version": 3
   },
   "file_extension": ".py",
   "mimetype": "text/x-python",
   "name": "python",
   "nbconvert_exporter": "python",
   "pygments_lexer": "ipython3",
   "version": "3.10.4"
  },
  "vscode": {
   "interpreter": {
    "hash": "916dbcbb3f70747c44a77c7bcd40155683ae19c65e1c03b4aa3499c5328201f1"
   }
  }
 },
 "nbformat": 4,
 "nbformat_minor": 2
}
